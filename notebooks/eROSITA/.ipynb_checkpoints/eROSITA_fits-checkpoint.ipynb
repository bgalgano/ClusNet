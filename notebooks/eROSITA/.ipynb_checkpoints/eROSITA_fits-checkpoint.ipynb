{
 "cells": [
  {
   "cell_type": "code",
   "execution_count": 1,
   "metadata": {
    "execution": {
     "iopub.execute_input": "2021-02-11T17:35:30.936154Z",
     "iopub.status.busy": "2021-02-11T17:35:30.935816Z",
     "iopub.status.idle": "2021-02-11T17:35:39.904751Z",
     "shell.execute_reply": "2021-02-11T17:35:39.903799Z",
     "shell.execute_reply.started": "2021-02-11T17:35:30.936112Z"
    }
   },
   "outputs": [],
   "source": [
    "from astropy.table import Table\n",
    "from glob import glob\n",
    "import os\n",
    "from pathlib import Path\n",
    "import matplotlib.pylab as plt\n",
    "import matplotlib as mpl\n",
    "from mpl_toolkits.axes_grid1 import make_axes_locatable\n",
    "\n",
    "\n",
    "import numpy as np\n",
    "import pandas as pd\n",
    "import sys\n",
    "sys.path.insert(1, '../../code/')\n",
    "\n",
    "# import custom module\n",
    "from code import *\n"
   ]
  },
  {
   "cell_type": "code",
   "execution_count": null,
   "metadata": {},
   "outputs": [],
   "source": []
  },
  {
   "cell_type": "code",
   "execution_count": 2,
   "metadata": {
    "execution": {
     "iopub.execute_input": "2021-02-11T17:35:39.908171Z",
     "iopub.status.busy": "2021-02-11T17:35:39.907386Z",
     "iopub.status.idle": "2021-02-11T17:35:40.699065Z",
     "shell.execute_reply": "2021-02-11T17:35:40.697012Z",
     "shell.execute_reply.started": "2021-02-11T17:35:39.908126Z"
    }
   },
   "outputs": [
    {
     "ename": "NameError",
     "evalue": "name 'fits' is not defined",
     "output_type": "error",
     "traceback": [
      "\u001b[0;31m----------------------------------------------------------------------\u001b[0m",
      "\u001b[0;31mNameError\u001b[0m                            Traceback (most recent call last)",
      "\u001b[0;32m<ipython-input-2-c7daf8e937c4>\u001b[0m in \u001b[0;36m<module>\u001b[0;34m\u001b[0m\n\u001b[1;32m     11\u001b[0m \u001b[0;34m\u001b[0m\u001b[0m\n\u001b[1;32m     12\u001b[0m \u001b[0;32mfor\u001b[0m \u001b[0mfpath\u001b[0m \u001b[0;32min\u001b[0m \u001b[0mfnames\u001b[0m\u001b[0;34m:\u001b[0m\u001b[0;34m\u001b[0m\u001b[0;34m\u001b[0m\u001b[0m\n\u001b[0;32m---> 13\u001b[0;31m     \u001b[0;32mwith\u001b[0m \u001b[0mfits\u001b[0m\u001b[0;34m.\u001b[0m\u001b[0mopen\u001b[0m\u001b[0;34m(\u001b[0m\u001b[0mfpath\u001b[0m\u001b[0;34m)\u001b[0m \u001b[0;32mas\u001b[0m \u001b[0mdata\u001b[0m\u001b[0;34m:\u001b[0m\u001b[0;34m\u001b[0m\u001b[0;34m\u001b[0m\u001b[0m\n\u001b[0m\u001b[1;32m     14\u001b[0m         \u001b[0mcluster\u001b[0m \u001b[0;34m=\u001b[0m \u001b[0mpd\u001b[0m\u001b[0;34m.\u001b[0m\u001b[0mDataFrame\u001b[0m\u001b[0;34m(\u001b[0m\u001b[0mdata\u001b[0m\u001b[0;34m[\u001b[0m\u001b[0;36m0\u001b[0m\u001b[0;34m]\u001b[0m\u001b[0;34m.\u001b[0m\u001b[0mdata\u001b[0m\u001b[0;34m)\u001b[0m\u001b[0;34m\u001b[0m\u001b[0;34m\u001b[0m\u001b[0m\n\u001b[1;32m     15\u001b[0m \u001b[0;34m\u001b[0m\u001b[0m\n",
      "\u001b[0;31mNameError\u001b[0m: name 'fits' is not defined"
     ]
    }
   ],
   "source": [
    "fnames = glob('../../data/eROSITA/*.fits')\n",
    "fpath = fnames[0]\n",
    "\n",
    "clusterList = np.load('../../clusterList.npy')\n",
    "columns = clusterList.dtype.names\n",
    "df = pd.DataFrame(clusterList,columns=columns)\n",
    "df.sample(n=5).style\n",
    "#print('{:.2e}'.format(max(df.M500_msolh)))\n",
    "\n",
    "mid_pixel = int(384/2)\n",
    "\n",
    "for fpath in fnames:\n",
    "    with fits.open(fpath) as data:\n",
    "        cluster = pd.DataFrame(data[0].data)\n",
    "\n",
    "    cluster = cluster.to_numpy()\n",
    "    plt.figure(figsize=(4,4))\n",
    "    file_name = Path(fpath).stem\n",
    "    cluster_row = clusterList[clusterList['id']==int(file_name)]\n",
    "    log_m = np.log10(cluster_row['M500_msolh'])[0]\n",
    "    plt.title(r'$\\log\\left(\\frac{M_\\mathrm{500c}}{h^{-1}\\,M_\\odot}\\right) = $'+'{:.2f}'.format(log_m))\n",
    "    \n",
    "    cmap = mpl.cm.twilight\n",
    "    lam = 0.1133929878\n",
    "    noise = np.random.poisson(lam=lam, size=cluster.shape)\n",
    "\n",
    "    plt.imshow(noise,cmap=cmap)\n",
    "    im = plt.imshow(np.log10(cluster),cmap=cmap,interpolation='none')\n",
    "\n",
    "    ax = plt.gca()\n",
    "    divider = make_axes_locatable(ax)\n",
    "    cax = divider.append_axes(\"right\", size=\"5%\", pad=0.12)\n",
    "\n",
    "    plt.colorbar(im, cax=cax)\n",
    "    ax.set_xticks(np.linspace(0,384,7))\n",
    "    ax.set_yticks(np.linspace(0,384,7))\n",
    "\n",
    "    ax.set_xlabel(\"x\"), ax.set_ylabel(\"y\")\n",
    "    ax.set_facecolor('#DADADA')\n",
    "    plt.tight_layout()\n",
    "    #plt.savefig('../figs/eROSITA/' + file_name + '.png',dpi=250,bbox_inches='tight')\n",
    "\n",
    "    ax.invert_yaxis()\n",
    "\n",
    "    plt.show()\n",
    "    plt.close()"
   ]
  },
  {
   "cell_type": "code",
   "execution_count": 3,
   "metadata": {
    "execution": {
     "iopub.execute_input": "2021-02-11T17:35:43.308954Z",
     "iopub.status.busy": "2021-02-11T17:35:43.308621Z",
     "iopub.status.idle": "2021-02-11T17:35:43.339235Z",
     "shell.execute_reply": "2021-02-11T17:35:43.337630Z",
     "shell.execute_reply.started": "2021-02-11T17:35:43.308917Z"
    }
   },
   "outputs": [
    {
     "ename": "NameError",
     "evalue": "name 'fits' is not defined",
     "output_type": "error",
     "traceback": [
      "\u001b[0;31m----------------------------------------------------------------------\u001b[0m",
      "\u001b[0;31mNameError\u001b[0m                            Traceback (most recent call last)",
      "\u001b[0;32m<ipython-input-3-7745c8881997>\u001b[0m in \u001b[0;36m<module>\u001b[0;34m\u001b[0m\n\u001b[1;32m      1\u001b[0m \u001b[0;32mfor\u001b[0m \u001b[0mfpath\u001b[0m \u001b[0;32min\u001b[0m \u001b[0mfnames\u001b[0m\u001b[0;34m:\u001b[0m\u001b[0;34m\u001b[0m\u001b[0;34m\u001b[0m\u001b[0m\n\u001b[0;32m----> 2\u001b[0;31m     \u001b[0;32mwith\u001b[0m \u001b[0mfits\u001b[0m\u001b[0;34m.\u001b[0m\u001b[0mopen\u001b[0m\u001b[0;34m(\u001b[0m\u001b[0mfpath\u001b[0m\u001b[0;34m)\u001b[0m \u001b[0;32mas\u001b[0m \u001b[0mdata\u001b[0m\u001b[0;34m:\u001b[0m\u001b[0;34m\u001b[0m\u001b[0;34m\u001b[0m\u001b[0m\n\u001b[0m\u001b[1;32m      3\u001b[0m         \u001b[0mcluster\u001b[0m \u001b[0;34m=\u001b[0m \u001b[0mpd\u001b[0m\u001b[0;34m.\u001b[0m\u001b[0mDataFrame\u001b[0m\u001b[0;34m(\u001b[0m\u001b[0mdata\u001b[0m\u001b[0;34m[\u001b[0m\u001b[0;36m0\u001b[0m\u001b[0;34m]\u001b[0m\u001b[0;34m.\u001b[0m\u001b[0mdata\u001b[0m\u001b[0;34m)\u001b[0m\u001b[0;34m\u001b[0m\u001b[0;34m\u001b[0m\u001b[0m\n\u001b[1;32m      4\u001b[0m     \u001b[0mcluster\u001b[0m \u001b[0;34m=\u001b[0m \u001b[0mcluster\u001b[0m\u001b[0;34m.\u001b[0m\u001b[0mto_numpy\u001b[0m\u001b[0;34m(\u001b[0m\u001b[0;34m)\u001b[0m\u001b[0;34m\u001b[0m\u001b[0;34m\u001b[0m\u001b[0m\n\u001b[1;32m      5\u001b[0m \u001b[0;34m\u001b[0m\u001b[0m\n",
      "\u001b[0;31mNameError\u001b[0m: name 'fits' is not defined"
     ]
    }
   ],
   "source": [
    "for fpath in fnames:\n",
    "    with fits.open(fpath) as data:\n",
    "        cluster = pd.DataFrame(data[0].data)\n",
    "    cluster = cluster.to_numpy()\n",
    "    \n",
    "    file_name = Path(fpath).stem\n",
    "    cluster_row = clusterList[clusterList['id']==int(file_name)]\n",
    "    log_m = np.log10(cluster_row['M500_msolh'])[0]\n",
    "    fig, axes = plt.subplots(nrows = 1, ncols=2, figsize=(8,4))\n",
    "    cmap = mpl.cm.twilight\n",
    "    \n",
    "    for idx in [0,1]:\n",
    "        \n",
    "        # grab current axis\n",
    "        ax = axes[idx]\n",
    "        ax.set_title(r'$\\log\\left(\\frac{M_\\mathrm{500c}}{h^{-1}\\,M_\\odot}\\right) = $'+'{:.2f}'.format(log_m))\n",
    "\n",
    "            \n",
    "        # ADD NOISE\n",
    "        lam = 0.1133929878\n",
    "        noise = np.random.poisson(lam=lam, size=cluster.shape)\n",
    "        ax.imshow(noise,cmap=cmap)\n",
    "                \n",
    "                \n",
    "        # SET TICKS\n",
    "        ax.set_xticks(np.linspace(0,384,7))\n",
    "        ax.set_yticks(np.linspace(0,384,7)) \n",
    "        ax.set_xlabel(\"x\"), ax.set_ylabel(\"y\")\n",
    "        ax.invert_yaxis()\n",
    "        size = 140\n",
    "        mid_pix = 192-size/2\n",
    "        if idx == 0:\n",
    "            im = ax.imshow(np.log10(cluster),cmap=cmap,interpolation='none',zorder=20)\n",
    "\n",
    "            rectangle = plt.Rectangle((mid_pix,mid_pix), size, size,ec=\"red\",fill=False)\n",
    "            ax.add_patch(rectangle)\n",
    "            \n",
    "        if idx == 1:\n",
    "            axis_idx = np.random.randint(low=0,high=2,size=1) # 0 or 1\n",
    "            shift = np.random.randint(low=-192,high=192,size=1)            \n",
    "\n",
    "            if axis_idx == 0:\n",
    "                # up or down\n",
    "                x = mid_pix\n",
    "                y = mid_pix + shift\n",
    "            if axis_idx == 1:\n",
    "                # left or right\n",
    "                x = mid_pix + shift\n",
    "                y = mid_pix\n",
    "                \n",
    "            cluster_shift = np.roll(cluster,shift=shift,axis=axis_idx)\n",
    "\n",
    "            im = ax.imshow(np.log10(cluster_shift),cmap=cmap,interpolation='none',zorder=20)\n",
    "            rectangle = plt.Rectangle((x,y), size, size,ec=\"red\",fill=False)\n",
    "            ax.add_patch(rectangle)\n",
    "            \n",
    "            \n",
    "        # ADD COLOR BAR\n",
    "        divider = make_axes_locatable(ax)\n",
    "        cax = divider.append_axes(\"right\", size=\"5%\", pad=0.12)\n",
    "        plt.colorbar(im, cax=cax)\n",
    "\n",
    "    plt.tight_layout()\n",
    "    #plt.savefig('../figs/eROSITA/' + file_name + '.png',dpi=250,bbox_inches='tight')\n",
    "\n",
    "    plt.show()\n",
    "    plt.close()"
   ]
  },
  {
   "cell_type": "markdown",
   "metadata": {},
   "source": [
    "One-to-one 2/11/2020\n",
    "\n",
    "- poisson distribution value and photon counts\n",
    "-"
   ]
  }
 ],
 "metadata": {
  "kernelspec": {
   "display_name": "Python 3",
   "language": "python",
   "name": "python3"
  },
  "language_info": {
   "codemirror_mode": {
    "name": "ipython",
    "version": 3
   },
   "file_extension": ".py",
   "mimetype": "text/x-python",
   "name": "python",
   "nbconvert_exporter": "python",
   "pygments_lexer": "ipython3",
   "version": "3.8.3"
  }
 },
 "nbformat": 4,
 "nbformat_minor": 4
}
