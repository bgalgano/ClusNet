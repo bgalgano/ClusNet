{
 "cells": [
  {
   "cell_type": "code",
   "execution_count": 29,
   "metadata": {},
   "outputs": [
    {
     "name": "stdout",
     "output_type": "stream",
     "text": [
      "Tensorflow ver. 2.4.1\n"
     ]
    }
   ],
   "source": [
    "#Import Statements\n",
    "\n",
    "import numpy as np\n",
    "from numpy.random import default_rng\n",
    "%matplotlib inline\n",
    "import matplotlib.pyplot as plt\n",
    "rng = default_rng()\n",
    "\n",
    "import os\n",
    "import pandas as pd\n",
    "import time as time\n",
    "import tensorflow as tf\n",
    "from tensorflow import keras\n",
    "from tensorflow.keras import layers\n",
    "import seaborn as sns\n",
    "import matplotlib as mpl\n",
    "import glob\n",
    "import random\n",
    "import sys\n",
    "from mpl_toolkits.axes_grid1.axes_divider import make_axes_locatable\n",
    "\n",
    "from os.path import expanduser\n",
    "home = expanduser(\"~\")\n",
    "sys.path.append(home+'/repos/ClusNet/code/modules/')\n",
    "\n",
    "from scipy.ndimage import gaussian_filter\n",
    "from ClusNet import Cluster\n",
    "from ClusNet import model as m\n",
    "from ClusNet import dataset as ds\n",
    "sys.path.append(home+'/repos/ClusNet/CNN/seg/')\n",
    "import seg\n",
    "\n",
    "import glob\n",
    "import IPython.display as display\n",
    "import datetime, os\n",
    "from tensorflow.keras.layers import *\n",
    "from tensorflow.keras.callbacks import EarlyStopping, ModelCheckpoint\n",
    "from tensorflow.keras.optimizers import Adam\n",
    "from IPython.display import clear_output\n",
    "\n",
    "# For more information about autotune:\n",
    "# https://www.tensorflow.org/guide/data_performance#prefetching\n",
    "AUTOTUNE = tf.data.experimental.AUTOTUNE\n",
    "print(f\"Tensorflow ver. {tf.__version__}\")"
   ]
  },
  {
   "cell_type": "code",
   "execution_count": 30,
   "metadata": {},
   "outputs": [],
   "source": [
    "clusglob = glob.glob(home + '/repos/ClusNet/data/eROSITA_no_background/*.fits')\n",
    "\n",
    "data_length = 50\n",
    "\n",
    "paths = random.choices(clusglob,k=data_length)\n",
    "IMG_SIZE = 384\n",
    "N_CLASSES = 4"
   ]
  },
  {
   "cell_type": "code",
   "execution_count": 31,
   "metadata": {},
   "outputs": [
    {
     "name": "stdout",
     "output_type": "stream",
     "text": [
      "\n",
      "Model directory created --> /Users/erebor/repos/ClusNet/models/seg/YkpE3\n",
      "\n",
      "Loading 50 cluster(s)...\n",
      " |█████████████████████████████-| 98.0% \r"
     ]
    }
   ],
   "source": [
    "modeldir = Cluster.mkdir_model(spath=home+'/repos/ClusNet/models/seg')\n",
    "x_train,y_train,paths_train,x_test,y_test,paths_test = seg.make_dataset(paths=paths,\n",
    "                                                                    validation_split=0.90,\n",
    "                                                                    modeldir=modeldir,\n",
    "                                                                    shift=False,\n",
    "                                                                    agn=True,\n",
    "                                                                    poisson=False,\n",
    "                                                                    sigma=0.5)\n"
   ]
  },
  {
   "cell_type": "code",
   "execution_count": 32,
   "metadata": {},
   "outputs": [
    {
     "data": {
      "text/plain": [
       "(384, 384)"
      ]
     },
     "execution_count": 32,
     "metadata": {},
     "output_type": "execute_result"
    }
   ],
   "source": [
    "np.sum(np.ones((384,384,3)),axis=2).shape"
   ]
  },
  {
   "cell_type": "code",
   "execution_count": 33,
   "metadata": {},
   "outputs": [
    {
     "data": {
      "image/png": "[encoded data removed]",
      "text/plain": [
       "<Figure size 576x360 with 2 Axes>"
      ]
     },
     "metadata": {
      "needs_background": "light"
     },
     "output_type": "display_data"
    }
   ],
   "source": [
    "fig, ax = plt.subplots(figsize=(8,5),ncols=2,nrows=1,sharex=True,sharey=True)\n",
    "idx = np.random.randint(0,x_train.shape[0])\n",
    "cmap = mpl.cm.binary\n",
    "norm = mpl.colors.Normalize(vmin=0,vmax=1.)\n",
    "ax[0].imshow(x_train[idx],cmap=cmap,interpolation='none',norm=norm)\n",
    "ax[1].imshow(y_train[idx])\n",
    "plt.show()\n",
    "plt.close()\n"
   ]
  },
  {
   "cell_type": "code",
   "execution_count": null,
   "metadata": {},
   "outputs": [],
   "source": []
  },
  {
   "cell_type": "code",
   "execution_count": 35,
   "metadata": {},
   "outputs": [],
   "source": [
    "# -- Keras Functional API -- #\n",
    "# -- UNet Implementation -- #\n",
    "# Everything here is from tensorflow.keras.layers\n",
    "# I imported tensorflow.keras.layers * to make it easier to read\n",
    "dropout_rate = 0.5\n",
    "N_CHANNELS = 1\n",
    "input_size = (IMG_SIZE, IMG_SIZE, N_CHANNELS)\n",
    "\n",
    "# If you want to know more about why we are using `he_normal`:\n",
    "# https://stats.stackexchange.com/questions/319323/whats-the-difference-between-variance-scaling-initializer-and-xavier-initialize/319849#319849  \n",
    "# Or the excellent fastai course:\n",
    "# https://github.com/fastai/course-v3/blob/master/nbs/dl2/02b_initializing.ipynb\n",
    "initializer = 'he_normal'\n",
    "\n",
    "\n",
    "# -- Encoder -- #\n",
    "# Block encoder 1\n",
    "inputs = Input(shape=input_size)\n",
    "conv_enc_1 = Conv2D(64, 3, activation='relu', padding='same', kernel_initializer=initializer)(inputs)\n",
    "conv_enc_1 = Conv2D(64, 3, activation = 'relu', padding='same', kernel_initializer=initializer)(conv_enc_1)\n",
    "\n",
    "# Block encoder 2\n",
    "max_pool_enc_2 = MaxPooling2D(pool_size=(2, 2))(conv_enc_1)\n",
    "conv_enc_2 = Conv2D(128, 3, activation = 'relu', padding = 'same', kernel_initializer = initializer)(max_pool_enc_2)\n",
    "conv_enc_2 = Conv2D(128, 3, activation = 'relu', padding = 'same', kernel_initializer = initializer)(conv_enc_2)\n",
    "\n",
    "# Block  encoder 3\n",
    "max_pool_enc_3 = MaxPooling2D(pool_size=(2, 2))(conv_enc_2)\n",
    "conv_enc_3 = Conv2D(256, 3, activation = 'relu', padding = 'same', kernel_initializer = initializer)(max_pool_enc_3)\n",
    "conv_enc_3 = Conv2D(256, 3, activation = 'relu', padding = 'same', kernel_initializer = initializer)(conv_enc_3)\n",
    "\n",
    "# Block  encoder 4\n",
    "max_pool_enc_4 = MaxPooling2D(pool_size=(2, 2))(conv_enc_3)\n",
    "conv_enc_4 = Conv2D(512, 3, activation = 'relu', padding = 'same', kernel_initializer = initializer)(max_pool_enc_4)\n",
    "conv_enc_4 = Conv2D(512, 3, activation = 'relu', padding = 'same', kernel_initializer = initializer)(conv_enc_4)\n",
    "# -- Encoder -- #\n",
    "\n",
    "# ----------- #\n",
    "maxpool = MaxPooling2D(pool_size=(2, 2))(conv_enc_4)\n",
    "conv = Conv2D(1024, 3, activation = 'relu', padding = 'same', kernel_initializer = initializer)(maxpool)\n",
    "conv = Conv2D(1024, 3, activation = 'relu', padding = 'same', kernel_initializer = initializer)(conv)\n",
    "# ----------- #\n",
    "\n",
    "# -- Decoder -- #\n",
    "# Block decoder 1\n",
    "up_dec_1 = Conv2D(512, 2, activation = 'relu', padding = 'same', kernel_initializer = initializer)(UpSampling2D(size = (2,2))(conv))\n",
    "merge_dec_1 = concatenate([conv_enc_4, up_dec_1], axis = 3)\n",
    "conv_dec_1 = Conv2D(512, 3, activation = 'relu', padding = 'same', kernel_initializer = initializer)(merge_dec_1)\n",
    "conv_dec_1 = Conv2D(512, 3, activation = 'relu', padding = 'same', kernel_initializer = initializer)(conv_dec_1)\n",
    "\n",
    "# Block decoder 2\n",
    "up_dec_2 = Conv2D(256, 2, activation = 'relu', padding = 'same', kernel_initializer = initializer)(UpSampling2D(size = (2,2))(conv_dec_1))\n",
    "merge_dec_2 = concatenate([conv_enc_3, up_dec_2], axis = 3)\n",
    "conv_dec_2 = Conv2D(256, 3, activation = 'relu', padding = 'same', kernel_initializer = initializer)(merge_dec_2)\n",
    "conv_dec_2 = Conv2D(256, 3, activation = 'relu', padding = 'same', kernel_initializer = initializer)(conv_dec_2)\n",
    "\n",
    "# Block decoder 3\n",
    "up_dec_3 = Conv2D(128, 2, activation = 'relu', padding = 'same', kernel_initializer = initializer)(UpSampling2D(size = (2,2))(conv_dec_2))\n",
    "merge_dec_3 = concatenate([conv_enc_2, up_dec_3], axis = 3)\n",
    "conv_dec_3 = Conv2D(128, 3, activation = 'relu', padding = 'same', kernel_initializer = initializer)(merge_dec_3)\n",
    "conv_dec_3 = Conv2D(128, 3, activation = 'relu', padding = 'same', kernel_initializer = initializer)(conv_dec_3)\n",
    "\n",
    "# Block decoder 4\n",
    "up_dec_4 = Conv2D(64, 2, activation = 'relu', padding = 'same', kernel_initializer = initializer)(UpSampling2D(size = (2,2))(conv_dec_3))\n",
    "merge_dec_4 = concatenate([conv_enc_1, up_dec_4], axis = 3)\n",
    "conv_dec_4 = Conv2D(64, 3, activation = 'relu', padding = 'same', kernel_initializer = initializer)(merge_dec_4)\n",
    "conv_dec_4 = Conv2D(64, 3, activation = 'relu', padding = 'same', kernel_initializer = initializer)(conv_dec_4)\n",
    "conv_dec_4 = Conv2D(2, 3, activation = 'relu', padding = 'same', kernel_initializer = initializer)(conv_dec_4)\n",
    "# -- Dencoder -- #\n",
    "\n",
    "output = Conv2D(N_CLASSES, 1, activation = 'softmax')(conv_dec_4)"
   ]
  },
  {
   "cell_type": "code",
   "execution_count": 19,
   "metadata": {},
   "outputs": [],
   "source": [
    "the_U = tf.keras.Model(inputs = inputs, outputs = output)\n",
    "learning_rate = 0.005\n",
    "#loss = tf.keras.metrics.MeanIoU(num_classes=3)\n",
    "loss = tf.keras.losses.SparseCategoricalCrossentropy(from_logits=True)\n",
    "optimizer=tf.keras.optimizers.Adam(lr=learning_rate)\n",
    "\n",
    "the_U.compile(optimizer=optimizer, \n",
    "              loss=loss)"
   ]
  },
  {
   "cell_type": "code",
   "execution_count": 20,
   "metadata": {},
   "outputs": [],
   "source": [
    "#the_U.summary()"
   ]
  },
  {
   "cell_type": "code",
   "execution_count": 21,
   "metadata": {},
   "outputs": [],
   "source": [
    "epochs = 10\n",
    "batch_size = 16\n",
    "validation_split = 0.09"
   ]
  },
  {
   "cell_type": "code",
   "execution_count": 22,
   "metadata": {},
   "outputs": [],
   "source": [
    "def train_model(model, train_x, train_y, my_epochs, my_batch_size=None, my_validation_split=0.1):\n",
    "    \"\"\"Feed a dataset into the model in order to train it.\"\"\"\n",
    "    history = model.fit(x=train_x, y=train_y, batch_size=my_batch_size, epochs=my_epochs, verbose = 1, validation_split=my_validation_split)\n",
    "    # Gather the model's trained weight and bias.\n",
    "    trained_weight = model.get_weights()[0]\n",
    "    trained_bias = model.get_weights()[1]\n",
    "\n",
    "    # The list of epochs is stored separately from the\n",
    "    # rest of history.\n",
    "    epochs = history.epoch\n",
    "  \n",
    "    # Isolate the root mean squared error for each epoch.\n",
    "    hist = pd.DataFrame(history.history)\n",
    "    rmse = hist[\"root_mean_squared_error\"]\n",
    "\n",
    "    return epochs, rmse, history.history"
   ]
  },
  {
   "cell_type": "code",
   "execution_count": 23,
   "metadata": {},
   "outputs": [
    {
     "name": "stdout",
     "output_type": "stream",
     "text": [
      "Epoch 1/10\n",
      "3/3 [==============================] - 7s 2s/step - loss: 1.3006 - val_loss: 0.5416\n",
      "Epoch 2/10\n",
      "3/3 [==============================] - 7s 2s/step - loss: 0.4193 - val_loss: 0.0830\n",
      "Epoch 3/10\n",
      "3/3 [==============================] - 7s 2s/step - loss: 0.0930 - val_loss: 0.0547\n",
      "Epoch 4/10\n",
      "3/3 [==============================] - 7s 2s/step - loss: 0.0546 - val_loss: 0.0552\n",
      "Epoch 5/10\n",
      "3/3 [==============================] - 7s 2s/step - loss: 0.0541 - val_loss: 0.0450\n",
      "Epoch 6/10\n",
      "3/3 [==============================] - 7s 2s/step - loss: 0.0389 - val_loss: 0.0412\n",
      "Epoch 7/10\n",
      "3/3 [==============================] - 7s 2s/step - loss: 0.0387 - val_loss: 0.0420\n",
      "Epoch 8/10\n",
      "3/3 [==============================] - 7s 2s/step - loss: 0.0357 - val_loss: 0.0343\n",
      "Epoch 9/10\n",
      "3/3 [==============================] - 7s 2s/step - loss: 0.0315 - val_loss: 0.0301\n",
      "Epoch 10/10\n",
      "3/3 [==============================] - 7s 2s/step - loss: 0.0272 - val_loss: 0.0274\n",
      "Training Time:  1.1269528150558472\n"
     ]
    }
   ],
   "source": [
    "training_start = time.time()\n",
    "# Train the model on the normalized training set.\n",
    "history = the_U.fit(x=y_train, \n",
    "                    y=y_train, \n",
    "                    batch_size=batch_size, \n",
    "                    epochs=epochs, \n",
    "                    verbose=1, \n",
    "                    validation_split=validation_split)\n",
    "\n",
    "epochs = history.epoch\n",
    "hist = pd.DataFrame(history.history)\n",
    "\n",
    "print(\"Training Time: \", (time.time() - training_start)/60)"
   ]
  },
  {
   "cell_type": "code",
   "execution_count": 24,
   "metadata": {},
   "outputs": [
    {
     "name": "stdout",
     "output_type": "stream",
     "text": [
      "\n",
      " Evaluate the new model against the test set:\n",
      "1/1 [==============================] - 0s 310ms/step - loss: 0.1037\n",
      "0.10368678718805313\n"
     ]
    }
   ],
   "source": [
    "print(\"\\n Evaluate the new model against the test set:\")\n",
    "print(the_U.evaluate(x=x_test, y=y_test, batch_size=batch_size))"
   ]
  },
  {
   "cell_type": "code",
   "execution_count": 13,
   "metadata": {},
   "outputs": [],
   "source": [
    "prediction = the_U(x_test, training=False)"
   ]
  },
  {
   "cell_type": "code",
   "execution_count": 17,
   "metadata": {},
   "outputs": [
    {
     "name": "stdout",
     "output_type": "stream",
     "text": [
      "1.0\n"
     ]
    }
   ],
   "source": [
    "print(np.nanmax(prediction))"
   ]
  },
  {
   "cell_type": "code",
   "execution_count": 14,
   "metadata": {},
   "outputs": [],
   "source": [
    "def plot_results(x_test,y_test,prediction,seg_cmap=mpl.cm.viridis,spath=None):\n",
    "    \n",
    "    if spath is not None:\n",
    "        figpath = spath + '/res_im/'\n",
    "        os.mkdir(figpath)\n",
    "\n",
    "    idx = np.arange(len(prediction))\n",
    "\n",
    "    for i in random.choices(idx,k=10):\n",
    "        predict_image = prediction[i].numpy()\n",
    "        x_test_image = x_test[i]\n",
    "        y_test_image = y_test[i]\n",
    "\n",
    "        fig, ax = plt.subplots(figsize =(12,5),nrows=1,ncols=4,sharex=True,sharey=True)\n",
    "        ax[0].set_title('Input')\n",
    "\n",
    "        cmap = mpl.cm.binary\n",
    "        norm = mpl.colors.Normalize(vmin=-2.,vmax=1.)\n",
    "\n",
    "        ax[0].imshow(np.log10(x_test_image[:,:,0]),cmap=cmap,interpolation='none',norm=norm)\n",
    "\n",
    "        bounds = [-0.5,0.5,1.5,2.5,3.5]\n",
    "        norm = mpl.colors.BoundaryNorm(bounds, seg_cmap.N, extend='both')\n",
    "\n",
    "        \"\"\"\n",
    "        cmap = mpl.colors.ListedColormap(['white', 'red','green','blue'])\n",
    "        bounds = [-0.5,0.5,1.5,2.5,3.5]\n",
    "        norm = mpl.colors.BoundaryNorm(bounds, cmap.N)\n",
    "        \"\"\"\n",
    "        ax[2].set_title('Prediction')\n",
    "        ax[2].imshow(predict_image[:,:,0], norm = norm, cmap = seg_cmap,aspect=1)\n",
    "\n",
    "\n",
    "        ax[1].set_title('Truth')\n",
    "        ax[1].imshow(y_test_image[:,:,0], norm = norm, cmap = seg_cmap,aspect=1)\n",
    "\n",
    "\n",
    "        ax[-1].set_title('Contrast')\n",
    "        ax[-1].imshow(predict_image[:,:,0]-y_test_image[:,:,0], norm = norm, cmap = seg_cmap)\n",
    "\n",
    "        cax = fig.add_axes([1, 0.25, 0.01, 0.5])\n",
    "        cbar = mpl.colorbar.ColorbarBase(cax, cmap = seg_cmap, norm = norm, ticks=[0,1,2,3])\n",
    "        for i in range(4):\n",
    "            #ax[i].axis('off')\n",
    "            ax[i].set_xticks([])\n",
    "            ax[i].set_yticks([])\n",
    "\n",
    "        plt.tight_layout()\n",
    "        plt.subplots_adjust(wspace=0.05)\n",
    "        if spath is not None:\n",
    "            plt.savefig(figpath + '{}.png'.format(i),dpi=200,bbox_inches='tight')\n",
    "        plt.show()\n",
    "        plt.close()"
   ]
  },
  {
   "cell_type": "code",
   "execution_count": 15,
   "metadata": {},
   "outputs": [
    {
     "name": "stderr",
     "output_type": "stream",
     "text": [
      "<ipython-input-14-b88e8fb46135>:48: UserWarning: This figure includes Axes that are not compatible with tight_layout, so results might be incorrect.\n",
      "  plt.tight_layout()\n",
      "/opt/anaconda3/lib/python3.8/site-packages/IPython/core/pylabtools.py:132: UserWarning: This figure includes Axes that are not compatible with tight_layout, so results might be incorrect.\n",
      "  fig.canvas.print_figure(bytes_io, **kw)\n"
     ]
    },
    {
     "data": {
      "image/png": "[encoded data removed]",
      "text/plain": [
       "<Figure size 864x360 with 5 Axes>"
      ]
     },
     "metadata": {
      "needs_background": "light"
     },
     "output_type": "display_data"
    },
    {
     "data": {
      "image/png": "[encoded data removed]",
      "text/plain": [
       "<Figure size 864x360 with 5 Axes>"
      ]
     },
     "metadata": {
      "needs_background": "light"
     },
     "output_type": "display_data"
    },
    {
     "data": {
      "image/png": "[encoded data removed]",
      "text/plain": [
       "<Figure size 864x360 with 5 Axes>"
      ]
     },
     "metadata": {
      "needs_background": "light"
     },
     "output_type": "display_data"
    },
    {
     "data": {
      "image/png": "[encoded data removed]",
      "text/plain": [
       "<Figure size 864x360 with 5 Axes>"
      ]
     },
     "metadata": {
      "needs_background": "light"
     },
     "output_type": "display_data"
    },
    {
     "data": {
      "image/png": "[encoded data removed]",
      "text/plain": [
       "<Figure size 864x360 with 5 Axes>"
      ]
     },
     "metadata": {
      "needs_background": "light"
     },
     "output_type": "display_data"
    },
    {
     "data": {
      "image/png": "[encoded data removed]",
      "text/plain": [
       "<Figure size 864x360 with 5 Axes>"
      ]
     },
     "metadata": {
      "needs_background": "light"
     },
     "output_type": "display_data"
    },
    {
     "data": {
      "image/png": "[encoded data removed]",
      "text/plain": [
       "<Figure size 864x360 with 5 Axes>"
      ]
     },
     "metadata": {
      "needs_background": "light"
     },
     "output_type": "display_data"
    },
    {
     "data": {
      "image/png": "[encoded data removed]",
      "text/plain": [
       "<Figure size 864x360 with 5 Axes>"
      ]
     },
     "metadata": {
      "needs_background": "light"
     },
     "output_type": "display_data"
    },
    {
     "data": {
      "image/png": "[encoded data removed]",
      "text/plain": [
       "<Figure size 864x360 with 5 Axes>"
      ]
     },
     "metadata": {
      "needs_background": "light"
     },
     "output_type": "display_data"
    },
    {
     "data": {
      "image/png": "[encoded data removed]",
      "text/plain": [
       "<Figure size 864x360 with 5 Axes>"
      ]
     },
     "metadata": {
      "needs_background": "light"
     },
     "output_type": "display_data"
    }
   ],
   "source": [
    "plot_results(x_test=x_test,\n",
    "             y_test=y_test,\n",
    "             prediction=prediction,\n",
    "             seg_cmap=mpl.cm.rainbow,\n",
    "             spath=None)"
   ]
  },
  {
   "cell_type": "code",
   "execution_count": 16,
   "metadata": {},
   "outputs": [
    {
     "name": "stdout",
     "output_type": "stream",
     "text": [
      "(124, 124, 1)\n",
      "{0.0, 1.0, 2.0, 3.0}\n"
     ]
    },
    {
     "ename": "IndexError",
     "evalue": "index 3 is out of bounds for axis 1 with size 3",
     "output_type": "error",
     "traceback": [
      "\u001b[0;31m---------------------------------------------------------------------------\u001b[0m",
      "\u001b[0;31mIndexError\u001b[0m                                Traceback (most recent call last)",
      "\u001b[0;32m<ipython-input-16-5c543cb42213>\u001b[0m in \u001b[0;36m<module>\u001b[0;34m\u001b[0m\n\u001b[1;32m     10\u001b[0m \u001b[0mprint\u001b[0m\u001b[0;34m(\u001b[0m\u001b[0mz\u001b[0m\u001b[0;34m.\u001b[0m\u001b[0mshape\u001b[0m\u001b[0;34m)\u001b[0m\u001b[0;34m\u001b[0m\u001b[0;34m\u001b[0m\u001b[0m\n\u001b[1;32m     11\u001b[0m \u001b[0mprint\u001b[0m\u001b[0;34m(\u001b[0m\u001b[0mset\u001b[0m\u001b[0;34m(\u001b[0m\u001b[0mz\u001b[0m\u001b[0;34m.\u001b[0m\u001b[0mflatten\u001b[0m\u001b[0;34m(\u001b[0m\u001b[0;34m)\u001b[0m\u001b[0;34m)\u001b[0m\u001b[0;34m)\u001b[0m\u001b[0;34m\u001b[0m\u001b[0;34m\u001b[0m\u001b[0m\n\u001b[0;32m---> 12\u001b[0;31m \u001b[0mmask\u001b[0m \u001b[0;34m=\u001b[0m \u001b[0mtf\u001b[0m\u001b[0;34m.\u001b[0m\u001b[0mkeras\u001b[0m\u001b[0;34m.\u001b[0m\u001b[0mutils\u001b[0m\u001b[0;34m.\u001b[0m\u001b[0mto_categorical\u001b[0m\u001b[0;34m(\u001b[0m\u001b[0mz\u001b[0m\u001b[0;34m,\u001b[0m \u001b[0mnum_classes\u001b[0m\u001b[0;34m=\u001b[0m\u001b[0;36m3\u001b[0m\u001b[0;34m,\u001b[0m \u001b[0mdtype\u001b[0m\u001b[0;34m=\u001b[0m\u001b[0;34m'float32'\u001b[0m\u001b[0;34m)\u001b[0m\u001b[0;34m\u001b[0m\u001b[0;34m\u001b[0m\u001b[0m\n\u001b[0m\u001b[1;32m     13\u001b[0m \u001b[0mprint\u001b[0m\u001b[0;34m(\u001b[0m\u001b[0mtype\u001b[0m\u001b[0;34m(\u001b[0m\u001b[0mmask\u001b[0m\u001b[0;34m)\u001b[0m\u001b[0;34m)\u001b[0m\u001b[0;34m\u001b[0m\u001b[0;34m\u001b[0m\u001b[0m\n",
      "\u001b[0;32m/opt/anaconda3/lib/python3.8/site-packages/tensorflow/python/keras/utils/np_utils.py\u001b[0m in \u001b[0;36mto_categorical\u001b[0;34m(y, num_classes, dtype)\u001b[0m\n\u001b[1;32m     76\u001b[0m   \u001b[0mn\u001b[0m \u001b[0;34m=\u001b[0m \u001b[0my\u001b[0m\u001b[0;34m.\u001b[0m\u001b[0mshape\u001b[0m\u001b[0;34m[\u001b[0m\u001b[0;36m0\u001b[0m\u001b[0;34m]\u001b[0m\u001b[0;34m\u001b[0m\u001b[0;34m\u001b[0m\u001b[0m\n\u001b[1;32m     77\u001b[0m   \u001b[0mcategorical\u001b[0m \u001b[0;34m=\u001b[0m \u001b[0mnp\u001b[0m\u001b[0;34m.\u001b[0m\u001b[0mzeros\u001b[0m\u001b[0;34m(\u001b[0m\u001b[0;34m(\u001b[0m\u001b[0mn\u001b[0m\u001b[0;34m,\u001b[0m \u001b[0mnum_classes\u001b[0m\u001b[0;34m)\u001b[0m\u001b[0;34m,\u001b[0m \u001b[0mdtype\u001b[0m\u001b[0;34m=\u001b[0m\u001b[0mdtype\u001b[0m\u001b[0;34m)\u001b[0m\u001b[0;34m\u001b[0m\u001b[0;34m\u001b[0m\u001b[0m\n\u001b[0;32m---> 78\u001b[0;31m   \u001b[0mcategorical\u001b[0m\u001b[0;34m[\u001b[0m\u001b[0mnp\u001b[0m\u001b[0;34m.\u001b[0m\u001b[0marange\u001b[0m\u001b[0;34m(\u001b[0m\u001b[0mn\u001b[0m\u001b[0;34m)\u001b[0m\u001b[0;34m,\u001b[0m \u001b[0my\u001b[0m\u001b[0;34m]\u001b[0m \u001b[0;34m=\u001b[0m \u001b[0;36m1\u001b[0m\u001b[0;34m\u001b[0m\u001b[0;34m\u001b[0m\u001b[0m\n\u001b[0m\u001b[1;32m     79\u001b[0m   \u001b[0moutput_shape\u001b[0m \u001b[0;34m=\u001b[0m \u001b[0minput_shape\u001b[0m \u001b[0;34m+\u001b[0m \u001b[0;34m(\u001b[0m\u001b[0mnum_classes\u001b[0m\u001b[0;34m,\u001b[0m\u001b[0;34m)\u001b[0m\u001b[0;34m\u001b[0m\u001b[0;34m\u001b[0m\u001b[0m\n\u001b[1;32m     80\u001b[0m   \u001b[0mcategorical\u001b[0m \u001b[0;34m=\u001b[0m \u001b[0mnp\u001b[0m\u001b[0;34m.\u001b[0m\u001b[0mreshape\u001b[0m\u001b[0;34m(\u001b[0m\u001b[0mcategorical\u001b[0m\u001b[0;34m,\u001b[0m \u001b[0moutput_shape\u001b[0m\u001b[0;34m)\u001b[0m\u001b[0;34m\u001b[0m\u001b[0;34m\u001b[0m\u001b[0m\n",
      "\u001b[0;31mIndexError\u001b[0m: index 3 is out of bounds for axis 1 with size 3"
     ]
    }
   ],
   "source": [
    "x = np.ones((124,124))\n",
    "y = np.ones((124,124))*2\n",
    "\n",
    "x[0][1]=0\n",
    "y[0][1]=0\n",
    "y[0][3]=1\n",
    "y[0][4]=0\n",
    "\n",
    "z = np.array([x+y]).T\n",
    "print(z.shape)\n",
    "print(set(z.flatten()))\n",
    "mask = tf.keras.utils.to_categorical(z, num_classes=3, dtype='float32')\n",
    "print(type(mask))"
   ]
  },
  {
   "cell_type": "code",
   "execution_count": null,
   "metadata": {},
   "outputs": [],
   "source": []
  },
  {
   "cell_type": "code",
   "execution_count": null,
   "metadata": {},
   "outputs": [],
   "source": []
  },
  {
   "cell_type": "code",
   "execution_count": null,
   "metadata": {},
   "outputs": [],
   "source": [
    "print(test)"
   ]
  },
  {
   "cell_type": "code",
   "execution_count": null,
   "metadata": {},
   "outputs": [],
   "source": []
  }
 ],
 "metadata": {
  "kernelspec": {
   "display_name": "Python 3",
   "language": "python",
   "name": "python3"
  },
  "language_info": {
   "codemirror_mode": {
    "name": "ipython",
    "version": 3
   },
   "file_extension": ".py",
   "mimetype": "text/x-python",
   "name": "python",
   "nbconvert_exporter": "python",
   "pygments_lexer": "ipython3",
   "version": "3.8.5"
  }
 },
 "nbformat": 4,
 "nbformat_minor": 4
}
