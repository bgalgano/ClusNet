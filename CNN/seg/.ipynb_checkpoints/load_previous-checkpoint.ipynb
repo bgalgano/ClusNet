{
 "cells": [
  {
   "cell_type": "code",
   "execution_count": null,
   "metadata": {},
   "outputs": [],
   "source": [
    "#Import Statements\n",
    "\n",
    "import numpy as np\n",
    "from numpy.random import default_rng\n",
    "%matplotlib inline\n",
    "import matplotlib.pyplot as plt\n",
    "rng = default_rng()\n",
    "\n",
    "import os\n",
    "import pandas as pd\n",
    "import time as time\n",
    "# tensorflow\n",
    "import tensorflow as tf\n",
    "from tensorflow import keras\n",
    "from tensorflow.keras import layers\n",
    "import matplotlib as mpl\n",
    "\n",
    "import glob\n",
    "import random\n",
    "import sys\n",
    "from mpl_toolkits.axes_grid1.axes_divider import make_axes_locatable\n",
    "\n",
    "from os.path import expanduser\n",
    "home = expanduser(\"~\")\n",
    "sys.path.append(home+'/repos/ClusNet/code/modules/')\n",
    "\n",
    "from scipy.ndimage import gaussian_filter\n",
    "from ClusNet import Cluster\n",
    "from ClusNet import model as m\n",
    "from ClusNet import dataset as ds\n",
    "sys.path.append(home+'/repos/ClusNet/CNN/seg/')\n",
    "import seg\n",
    "\n",
    "import glob\n",
    "import IPython.display as display\n",
    "import datetime, os\n",
    "from tensorflow.keras.layers import *\n",
    "from tensorflow.keras.callbacks import EarlyStopping, ModelCheckpoint\n",
    "from tensorflow.keras.optimizers import Adam\n",
    "from IPython.display import clear_output\n",
    "\n",
    "# For more information about autotune:\n",
    "# https://www.tensorflow.org/guide/data_performance#prefetching\n",
    "AUTOTUNE = tf.data.experimental.AUTOTUNE\n",
    "print(f\"Tensorflow ver. {tf.__version__}\")\n",
    "\n",
    "clusglob = glob.glob(home + '/repos/ClusNet/data/eROSITA_no_background/*.fits')\n"
   ]
  },
  {
   "cell_type": "code",
   "execution_count": null,
   "metadata": {},
   "outputs": [],
   "source": [
    "k = 50\n",
    "paths = random.choices(clusglob,k=k)\n",
    "\n",
    "IMG_SIZE = 384\n",
    "N_CLASSES = 4\n"
   ]
  },
  {
   "cell_type": "code",
   "execution_count": null,
   "metadata": {},
   "outputs": [],
   "source": [
    "modeldir = Cluster.mkdir_model(spath=home+'/repos/ClusNet/models/seg')\n",
    "x_train,y_train,paths_train,x_test,y_test,paths_test = seg.make_dataset(paths=paths,\n",
    "                                                                    validation_split=0.90,\n",
    "                                                                    modeldir=modeldir,\n",
    "                                                                    shift=False,\n",
    "                                                                    agn=True,\n",
    "                                                                    poisson=False,\n",
    "                                                                    sigma=0.5)\n"
   ]
  }
 ],
 "metadata": {
  "kernelspec": {
   "display_name": "Python 3",
   "language": "python",
   "name": "python3"
  },
  "language_info": {
   "codemirror_mode": {
    "name": "ipython",
    "version": 3
   },
   "file_extension": ".py",
   "mimetype": "text/x-python",
   "name": "python",
   "nbconvert_exporter": "python",
   "pygments_lexer": "ipython3",
   "version": "3.8.5"
  }
 },
 "nbformat": 4,
 "nbformat_minor": 4
}
