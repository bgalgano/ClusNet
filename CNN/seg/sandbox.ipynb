{
 "cells": [
  {
   "cell_type": "code",
   "execution_count": 1,
   "metadata": {},
   "outputs": [],
   "source": [
    "#!/usr/bin/env python\n",
    "\n",
    "import numpy as np\n",
    "import matplotlib.pyplot as plt\n",
    "import seg\n",
    "\n",
    "import os\n",
    "import pandas as pd\n",
    "import time as time\n",
    "from datetime import timedelta\n",
    "\n",
    "import h5py\n",
    "import tensorflow as tf\n",
    "from tensorflow import keras\n",
    "from tensorflow.keras import layers\n",
    "import seaborn as sns\n",
    "import matplotlib as mpl\n",
    "import glob\n",
    "import random\n",
    "import sys\n",
    "from mpl_toolkits.axes_grid1.axes_divider import make_axes_locatable\n",
    "from skimage.transform import resize\n",
    "\n",
    "from os.path import expanduser\n",
    "home =expanduser(\"~\")\n",
    "sys.path.append(home+'/repos/ClusNet/code/modules/')\n",
    "\n",
    "from scipy.ndimage import gaussian_filter\n",
    "from ClusNet import Cluster\n",
    "from ClusNet import model as m\n",
    "from ClusNet import dataset as ds"
   ]
  },
  {
   "cell_type": "code",
   "execution_count": 2,
   "metadata": {},
   "outputs": [
    {
     "name": "stdout",
     "output_type": "stream",
     "text": [
      "\n",
      "Loading 1000 cluster(s)...\n",
      " |████████████████████████-| 100% \n",
      "\n",
      "img_train shape: (800, 128, 128, 1)\n",
      "msk_train shape: (800, 128, 128, 3)\n",
      "\n",
      "img_val shape:  (200, 128, 128, 1)\n",
      "mask_val shape:  (200, 128, 128, 3)\n"
     ]
    }
   ],
   "source": [
    "img_train, msk_train, paths_train, img_val, msk_val, paths_val = seg.make_dataset(DATASET_SIZE=1000)"
   ]
  },
  {
   "cell_type": "code",
   "execution_count": 5,
   "metadata": {},
   "outputs": [],
   "source": [
    "images = tf.data.Dataset.from_tensor_slices(image_array)\n",
    "masks = tf.data.Dataset.from_tensor_slices(mask_array)"
   ]
  },
  {
   "cell_type": "code",
   "execution_count": 7,
   "metadata": {},
   "outputs": [
    {
     "ename": "NameError",
     "evalue": "name 'GLOBDIR' is not defined",
     "output_type": "error",
     "traceback": [
      "\u001b[0;31m---------------------------------------------------------------------------\u001b[0m",
      "\u001b[0;31mNameError\u001b[0m                                 Traceback (most recent call last)",
      "\u001b[0;32m<ipython-input-7-819fe1e7a3fa>\u001b[0m in \u001b[0;36m<module>\u001b[0;34m\u001b[0m\n\u001b[1;32m      3\u001b[0m \u001b[0mN_CLASSES\u001b[0m \u001b[0;34m=\u001b[0m \u001b[0;36m4\u001b[0m\u001b[0;34m\u001b[0m\u001b[0;34m\u001b[0m\u001b[0m\n\u001b[1;32m      4\u001b[0m \u001b[0;34m\u001b[0m\u001b[0m\n\u001b[0;32m----> 5\u001b[0;31m \u001b[0mclusglob\u001b[0m \u001b[0;34m=\u001b[0m \u001b[0mglob\u001b[0m\u001b[0;34m.\u001b[0m\u001b[0mglob\u001b[0m\u001b[0;34m(\u001b[0m\u001b[0mGLOBDIR\u001b[0m \u001b[0;34m+\u001b[0m \u001b[0;34m'/*.fits'\u001b[0m\u001b[0;34m)\u001b[0m\u001b[0;34m\u001b[0m\u001b[0;34m\u001b[0m\u001b[0m\n\u001b[0m\u001b[1;32m      6\u001b[0m \u001b[0mpaths\u001b[0m \u001b[0;34m=\u001b[0m \u001b[0mrandom\u001b[0m\u001b[0;34m.\u001b[0m\u001b[0mchoices\u001b[0m\u001b[0;34m(\u001b[0m\u001b[0mclusglob\u001b[0m\u001b[0;34m,\u001b[0m \u001b[0mk\u001b[0m\u001b[0;34m=\u001b[0m\u001b[0mDATASET_SIZE\u001b[0m\u001b[0;34m)\u001b[0m\u001b[0;34m\u001b[0m\u001b[0;34m\u001b[0m\u001b[0m\n\u001b[1;32m      7\u001b[0m \u001b[0;34m\u001b[0m\u001b[0m\n",
      "\u001b[0;31mNameError\u001b[0m: name 'GLOBDIR' is not defined"
     ]
    }
   ],
   "source": [
    "DATASET_SIZE = 100\n",
    "IMG_SIZE = 128\n",
    "N_CLASSES = 4\n",
    "\n",
    "clusglob = glob.glob(GLOBDIR + '/*.fits')\n",
    "paths = random.choices(clusglob, k=DATASET_SIZE)\n",
    "\n",
    "(x_train, y_train, paths_train, x_val, y_val, paths_val) = make_dataset()"
   ]
  },
  {
   "cell_type": "code",
   "execution_count": null,
   "metadata": {},
   "outputs": [],
   "source": [
    "inputs = image_train\n",
    "outputs = mask_train\n",
    "mask = outputs[k,:,:,:]\n",
    "image = inputs[k,:,:,:]"
   ]
  },
  {
   "cell_type": "code",
   "execution_count": 7,
   "metadata": {},
   "outputs": [
    {
     "data": {
      "text/plain": [
       "512"
      ]
     },
     "execution_count": 7,
     "metadata": {},
     "output_type": "execute_result"
    }
   ],
   "source": [
    "2**9"
   ]
  },
  {
   "cell_type": "code",
   "execution_count": null,
   "metadata": {},
   "outputs": [],
   "source": []
  },
  {
   "cell_type": "code",
   "execution_count": null,
   "metadata": {},
   "outputs": [],
   "source": []
  }
 ],
 "metadata": {
  "kernelspec": {
   "display_name": "Python 3",
   "language": "python",
   "name": "python3"
  },
  "language_info": {
   "codemirror_mode": {
    "name": "ipython",
    "version": 3
   },
   "file_extension": ".py",
   "mimetype": "text/x-python",
   "name": "python",
   "nbconvert_exporter": "python",
   "pygments_lexer": "ipython3",
   "version": "3.8.5"
  }
 },
 "nbformat": 4,
 "nbformat_minor": 4
}
