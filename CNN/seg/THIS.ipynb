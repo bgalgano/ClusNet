{
 "cells": [
  {
   "cell_type": "code",
   "execution_count": 1,
   "metadata": {},
   "outputs": [],
   "source": [
    "#Import Statements\n",
    "\n",
    "import numpy as np\n",
    "from numpy.random import default_rng\n",
    "%matplotlib inline\n",
    "import matplotlib.pyplot as plt\n",
    "rng = default_rng()\n",
    "\n",
    "import os\n",
    "import pandas as pd\n",
    "import time as time\n",
    "import tensorflow as tf\n",
    "from tensorflow import keras\n",
    "from tensorflow.keras import layers\n",
    "import seaborn as sns\n",
    "import matplotlib as mpl\n",
    "import glob\n",
    "import random\n",
    "import sys\n",
    "from mpl_toolkits.axes_grid1.axes_divider import make_axes_locatable\n",
    "\n",
    "from os.path import expanduser\n",
    "home = expanduser(\"~\")\n",
    "sys.path.append(home+'/repos/ClusNet/code/modules/')\n",
    "\n",
    "from scipy.ndimage import gaussian_filter\n",
    "from ClusNet import Cluster\n",
    "from ClusNet import model as m\n",
    "from ClusNet import dataset as ds"
   ]
  },
  {
   "cell_type": "code",
   "execution_count": 2,
   "metadata": {},
   "outputs": [],
   "source": [
    "clusglob = glob.glob(home + '/repos/ClusNet/data/eROSITA_no_background/*.fits')\n",
    "\n",
    "data_length = 100\n",
    "\n",
    "clusfpaths = random.choices(clusglob,k=data_length)"
   ]
  },
  {
   "cell_type": "code",
   "execution_count": 3,
   "metadata": {},
   "outputs": [
    {
     "name": "stdout",
     "output_type": "stream",
     "text": [
      " |█████████████████████████████-| 99.0% \r"
     ]
    }
   ],
   "source": [
    "#Data Generation Process\n",
    "image_size = 384\n",
    "\n",
    "#Train and Test data\n",
    "output_shape = (image_size, image_size, 1)\n",
    "input_shape = (image_size, image_size, 1)\n",
    "\n",
    "image_list = []\n",
    "mask_list = []\n",
    "for i, clusfpath in enumerate(clusfpaths):\n",
    "    \n",
    "    Cluster.printProgressBar(total=len(clusfpaths),iteration=i)\n",
    "    image, mask = Cluster.read_cluster(clusfpath,shift=False,agn=True,poisson=False,sigma=0.5)\n",
    "    \n",
    "    image_tensor = tf.constant(image)\n",
    "    \n",
    "    image_tensor = image_tensor[..., tf.newaxis]\n",
    "    image_list += [image_tensor]\n",
    "    \n",
    "    mask_tensor = tf.constant(mask)\n",
    "    \n",
    "    mask_tensor = mask_tensor[..., tf.newaxis]\n",
    "    mask_list += [mask_tensor] "
   ]
  },
  {
   "cell_type": "code",
   "execution_count": 38,
   "metadata": {},
   "outputs": [],
   "source": [
    "image_array = np.array(image_list)\n",
    "mask_array = np.array(mask_list)\n",
    "\n",
    "# training set\n",
    "x_train = image_array[:int(.9*data_length)]\n",
    "y_train = mask_array[:int(.9*data_length)]\n",
    "\n",
    "# test set\n",
    "x_test = image_array[int(.9*data_length):]\n",
    "y_test = mask_array[int(.9*data_length):]"
   ]
  },
  {
   "cell_type": "code",
   "execution_count": 39,
   "metadata": {},
   "outputs": [
    {
     "name": "stderr",
     "output_type": "stream",
     "text": [
      "<ipython-input-39-d2ba01d09ba7>:1: RuntimeWarning: divide by zero encountered in log10\n",
      "  np.nanmax(np.log10(image_array))\n"
     ]
    },
    {
     "data": {
      "text/plain": [
       "2.6599162000698504"
      ]
     },
     "execution_count": 39,
     "metadata": {},
     "output_type": "execute_result"
    }
   ],
   "source": [
    "np.nanmax(np.log10(image_array))"
   ]
  },
  {
   "cell_type": "code",
   "execution_count": 41,
   "metadata": {},
   "outputs": [
    {
     "name": "stdout",
     "output_type": "stream",
     "text": [
      "x0\n",
      "KerasTensor(type_spec=TensorSpec(shape=(None, 384, 384, 1), dtype=tf.float32, name='input_2'), name='input_2', description=\"created by layer 'input_2'\")\n",
      "\n",
      "x1\n",
      "KerasTensor(type_spec=TensorSpec(shape=(None, 192, 192, 64), dtype=tf.float32, name=None), name='sequential_8/max_pooling2d_4/MaxPool:0', description=\"created by layer 'sequential_8'\")\n",
      "\n",
      "x2\n",
      "KerasTensor(type_spec=TensorSpec(shape=(None, 96, 96, 32), dtype=tf.float32, name=None), name='sequential_9/max_pooling2d_5/MaxPool:0', description=\"created by layer 'sequential_9'\")\n",
      "\n",
      "x3\n",
      "KerasTensor(type_spec=TensorSpec(shape=(None, 48, 48, 16), dtype=tf.float32, name=None), name='sequential_10/max_pooling2d_6/MaxPool:0', description=\"created by layer 'sequential_10'\")\n",
      "\n",
      "x4\n",
      "KerasTensor(type_spec=TensorSpec(shape=(None, 24, 24, 8), dtype=tf.float32, name=None), name='sequential_11/max_pooling2d_7/MaxPool:0', description=\"created by layer 'sequential_11'\")\n",
      "\n",
      "x5\n",
      "KerasTensor(type_spec=TensorSpec(shape=(None, 48, 48, 8), dtype=tf.float32, name=None), name='sequential_12/up_sampling2d_4/resize/ResizeNearestNeighbor:0', description=\"created by layer 'sequential_12'\")\n",
      "\n",
      "x6\n",
      "KerasTensor(type_spec=TensorSpec(shape=(None, 48, 48, 24), dtype=tf.float32, name=None), name='concatenate_1/concat:0', description=\"created by layer 'concatenate_1'\")\n",
      "\n",
      "x7\n",
      "KerasTensor(type_spec=TensorSpec(shape=(None, 96, 96, 16), dtype=tf.float32, name=None), name='sequential_13/up_sampling2d_5/resize/ResizeNearestNeighbor:0', description=\"created by layer 'sequential_13'\")\n",
      "\n",
      "x8\n",
      "KerasTensor(type_spec=TensorSpec(shape=(None, 96, 96, 48), dtype=tf.float32, name=None), name='concatenate_1/concat:0', description=\"created by layer 'concatenate_1'\")\n",
      "\n",
      "x9\n",
      "KerasTensor(type_spec=TensorSpec(shape=(None, 192, 192, 32), dtype=tf.float32, name=None), name='sequential_14/up_sampling2d_6/resize/ResizeNearestNeighbor:0', description=\"created by layer 'sequential_14'\")\n",
      "\n",
      "x10\n",
      "KerasTensor(type_spec=TensorSpec(shape=(None, 192, 192, 96), dtype=tf.float32, name=None), name='concatenate_1/concat:0', description=\"created by layer 'concatenate_1'\")\n",
      "\n",
      "x11\n",
      "KerasTensor(type_spec=TensorSpec(shape=(None, 384, 384, 64), dtype=tf.float32, name=None), name='sequential_15/up_sampling2d_7/resize/ResizeNearestNeighbor:0', description=\"created by layer 'sequential_15'\")\n",
      "\n",
      "x11\n",
      "KerasTensor(type_spec=TensorSpec(shape=(None, 384, 384, 64), dtype=tf.float32, name=None), name='sequential_15/up_sampling2d_7/resize/ResizeNearestNeighbor:0', description=\"created by layer 'sequential_15'\")\n",
      "\n",
      "x13\n",
      "KerasTensor(type_spec=TensorSpec(shape=(None, 384, 384, 1), dtype=tf.float32, name=None), name='conv2d_transpose_9/Relu:0', description=\"created by layer 'conv2d_transpose_9'\")\n",
      "\n"
     ]
    }
   ],
   "source": [
    "concat = tf.keras.layers.Concatenate()\n",
    "\n",
    "x0 = keras.Input(shape=output_shape)\n",
    "\n",
    "print(\"x0\")\n",
    "print(x0)\n",
    "print(\"\")\n",
    "\n",
    "elayer1 = keras.Sequential()\n",
    "elayer1.add(layers.Conv2D(64, kernel_size=(3, 3), activation=\"relu\", padding='same'))\n",
    "elayer1.add(layers.MaxPooling2D((2, 2)))\n",
    "\n",
    "x1 = elayer1(x0)\n",
    "\n",
    "print(\"x1\")\n",
    "print(x1)\n",
    "print(\"\")\n",
    "\n",
    "elayer2 = keras.Sequential()\n",
    "elayer2.add(layers.Conv2D(32, kernel_size=(3, 3), activation=\"relu\", padding='same'))\n",
    "elayer2.add(layers.MaxPooling2D((2, 2)))\n",
    "\n",
    "x2 = elayer2(x1)\n",
    "\n",
    "print(\"x2\")\n",
    "print(x2)\n",
    "print(\"\")\n",
    "\n",
    "elayer3 = keras.Sequential()\n",
    "elayer3.add(layers.Conv2D(16, kernel_size=(3, 3), activation=\"relu\", padding='same'))\n",
    "elayer3.add(layers.MaxPooling2D((2, 2)))\n",
    "\n",
    "x3 = elayer3(x2)\n",
    "\n",
    "print(\"x3\")\n",
    "print(x3)\n",
    "print(\"\")\n",
    "\n",
    "elayer4 = keras.Sequential()\n",
    "elayer4.add(layers.Conv2D(8, kernel_size=(3, 3), activation=\"relu\", padding='same'))\n",
    "elayer4.add(layers.MaxPooling2D((2, 2)))\n",
    "\n",
    "\n",
    "x4 = elayer4(x3)\n",
    "\n",
    "print(\"x4\")\n",
    "print(x4)\n",
    "print(\"\")\n",
    "\n",
    "dlayer1 = keras.Sequential()\n",
    "dlayer1.add(layers.Conv2DTranspose(8, kernel_size=(3, 3), activation=\"relu\", padding='same'))\n",
    "dlayer1.add(layers.UpSampling2D((2, 2)))\n",
    "\n",
    "x5 = dlayer1(x4)\n",
    "\n",
    "print(\"x5\")\n",
    "print(x5)\n",
    "print()\n",
    "x6 = concat([x5,x3])\n",
    "\n",
    "print(\"x6\")\n",
    "print(x6)\n",
    "print()\n",
    "\n",
    "dlayer2 = keras.Sequential()\n",
    "dlayer2.add(layers.Conv2DTranspose(16, kernel_size=(3, 3), activation=\"relu\", padding='same'))\n",
    "dlayer2.add(layers.UpSampling2D((2, 2)))\n",
    "\n",
    "x7 = dlayer2(x6)\n",
    "\n",
    "print(\"x7\")\n",
    "print(x7)\n",
    "print()\n",
    "\n",
    "x8 = concat([x7, x2])\n",
    "\n",
    "print(\"x8\")\n",
    "print(x8)\n",
    "print()\n",
    "\n",
    "dlayer3 = keras.Sequential()\n",
    "dlayer3.add(layers.Conv2DTranspose(32, kernel_size=(3, 3), activation=\"relu\", padding='same'))\n",
    "dlayer3.add(layers.UpSampling2D((2, 2)))\n",
    "\n",
    "x9 = dlayer3(x8)\n",
    "\n",
    "print(\"x9\")\n",
    "print(x9)\n",
    "print()\n",
    "\n",
    "x10 = concat([x9, x1])\n",
    "\n",
    "print(\"x10\")\n",
    "print(x10)\n",
    "print()\n",
    "\n",
    "dlayer4 = keras.Sequential()\n",
    "dlayer4.add(layers.Conv2DTranspose(64, kernel_size=(3, 3), activation=\"relu\", padding='same'))\n",
    "dlayer4.add(layers.UpSampling2D((2, 2)))\n",
    "\n",
    "x11 = dlayer4(x10)\n",
    "\n",
    "print(\"x11\")\n",
    "print(x11)\n",
    "print()\n",
    "\n",
    "x12 = concat([x11, x0])\n",
    "\n",
    "print(\"x11\")\n",
    "print(x11)\n",
    "print()\n",
    "\n",
    "x13 = layers.Conv2DTranspose(1, kernel_size=(3, 3), activation=\"relu\", padding='same')(x12)\n",
    "\n",
    "print(\"x13\")\n",
    "print(x13)\n",
    "print()"
   ]
  },
  {
   "cell_type": "code",
   "execution_count": 9,
   "metadata": {},
   "outputs": [],
   "source": [
    "the_U = keras.Model(x0, x13)\n",
    "learning_rate = 0.0005\n",
    "the_U.compile(optimizer=tf.keras.optimizers.Adam(lr=learning_rate), loss=\"mean_squared_error\", metrics=[tf.keras.metrics.RootMeanSquaredError()])"
   ]
  },
  {
   "cell_type": "code",
   "execution_count": 10,
   "metadata": {},
   "outputs": [
    {
     "name": "stdout",
     "output_type": "stream",
     "text": [
      "Model: \"model\"\n",
      "__________________________________________________________________________________________________\n",
      "Layer (type)                    Output Shape         Param #     Connected to                     \n",
      "==================================================================================================\n",
      "input_1 (InputLayer)            [(None, 384, 384, 1) 0                                            \n",
      "__________________________________________________________________________________________________\n",
      "sequential (Sequential)         (None, 192, 192, 64) 640         input_1[0][0]                    \n",
      "__________________________________________________________________________________________________\n",
      "sequential_1 (Sequential)       (None, 96, 96, 32)   18464       sequential[0][0]                 \n",
      "__________________________________________________________________________________________________\n",
      "sequential_2 (Sequential)       (None, 48, 48, 16)   4624        sequential_1[0][0]               \n",
      "__________________________________________________________________________________________________\n",
      "sequential_3 (Sequential)       (None, 24, 24, 8)    1160        sequential_2[0][0]               \n",
      "__________________________________________________________________________________________________\n",
      "sequential_4 (Sequential)       (None, 48, 48, 8)    584         sequential_3[0][0]               \n",
      "__________________________________________________________________________________________________\n",
      "concatenate (Concatenate)       multiple             0           sequential_4[0][0]               \n",
      "                                                                 sequential_2[0][0]               \n",
      "                                                                 sequential_5[0][0]               \n",
      "                                                                 sequential_1[0][0]               \n",
      "                                                                 sequential_6[0][0]               \n",
      "                                                                 sequential[0][0]                 \n",
      "                                                                 sequential_7[0][0]               \n",
      "                                                                 input_1[0][0]                    \n",
      "__________________________________________________________________________________________________\n",
      "sequential_5 (Sequential)       (None, 96, 96, 16)   3472        concatenate[0][0]                \n",
      "__________________________________________________________________________________________________\n",
      "sequential_6 (Sequential)       (None, 192, 192, 32) 13856       concatenate[1][0]                \n",
      "__________________________________________________________________________________________________\n",
      "sequential_7 (Sequential)       (None, 384, 384, 64) 55360       concatenate[2][0]                \n",
      "__________________________________________________________________________________________________\n",
      "conv2d_transpose_4 (Conv2DTrans (None, 384, 384, 1)  586         concatenate[3][0]                \n",
      "==================================================================================================\n",
      "Total params: 98,746\n",
      "Trainable params: 98,746\n",
      "Non-trainable params: 0\n",
      "__________________________________________________________________________________________________\n"
     ]
    }
   ],
   "source": [
    "the_U.summary()"
   ]
  },
  {
   "cell_type": "code",
   "execution_count": 11,
   "metadata": {},
   "outputs": [],
   "source": [
    "epochs = 10\n",
    "batch_size = 16\n",
    "validation_split = 0.09"
   ]
  },
  {
   "cell_type": "code",
   "execution_count": 12,
   "metadata": {},
   "outputs": [],
   "source": [
    "def train_model(model, train_x, train_y, my_epochs, my_batch_size=None, my_validation_split=0.1):\n",
    "    \"\"\"Feed a dataset into the model in order to train it.\"\"\"\n",
    "    history = model.fit(x=train_x, y=train_y, batch_size=my_batch_size, epochs=my_epochs, verbose = 1, validation_split=my_validation_split)\n",
    "    # Gather the model's trained weight and bias.\n",
    "    trained_weight = model.get_weights()[0]\n",
    "    trained_bias = model.get_weights()[1]\n",
    "\n",
    "    # The list of epochs is stored separately from the\n",
    "    # rest of history.\n",
    "    epochs = history.epoch\n",
    "  \n",
    "    # Isolate the root mean squared error for each epoch.\n",
    "    hist = pd.DataFrame(history.history)\n",
    "    rmse = hist[\"root_mean_squared_error\"]\n",
    "\n",
    "    return epochs, rmse, history.history"
   ]
  },
  {
   "cell_type": "code",
   "execution_count": 13,
   "metadata": {},
   "outputs": [
    {
     "name": "stdout",
     "output_type": "stream",
     "text": [
      "Epoch 1/10\n",
      "6/6 [==============================] - 14s 2s/step - loss: 0.0338 - root_mean_squared_error: 0.1838 - val_loss: 0.0237 - val_root_mean_squared_error: 0.1539\n",
      "Epoch 2/10\n",
      "6/6 [==============================] - 13s 2s/step - loss: 0.0292 - root_mean_squared_error: 0.1707 - val_loss: 0.0263 - val_root_mean_squared_error: 0.1622\n",
      "Epoch 3/10\n",
      "6/6 [==============================] - 13s 2s/step - loss: 0.0268 - root_mean_squared_error: 0.1638 - val_loss: 0.0225 - val_root_mean_squared_error: 0.1500\n",
      "Epoch 4/10\n",
      "6/6 [==============================] - 13s 2s/step - loss: 0.0232 - root_mean_squared_error: 0.1522 - val_loss: 0.0220 - val_root_mean_squared_error: 0.1482\n",
      "Epoch 5/10\n",
      "6/6 [==============================] - 14s 2s/step - loss: 0.0231 - root_mean_squared_error: 0.1520 - val_loss: 0.0220 - val_root_mean_squared_error: 0.1484\n",
      "Epoch 6/10\n",
      "6/6 [==============================] - 14s 2s/step - loss: 0.0218 - root_mean_squared_error: 0.1475 - val_loss: 0.0207 - val_root_mean_squared_error: 0.1440\n",
      "Epoch 7/10\n",
      "6/6 [==============================] - 14s 2s/step - loss: 0.0212 - root_mean_squared_error: 0.1455 - val_loss: 0.0205 - val_root_mean_squared_error: 0.1430\n",
      "Epoch 8/10\n",
      "6/6 [==============================] - 14s 2s/step - loss: 0.0201 - root_mean_squared_error: 0.1416 - val_loss: 0.0200 - val_root_mean_squared_error: 0.1416\n",
      "Epoch 9/10\n",
      "6/6 [==============================] - 13s 2s/step - loss: 0.0196 - root_mean_squared_error: 0.1400 - val_loss: 0.0195 - val_root_mean_squared_error: 0.1397\n",
      "Epoch 10/10\n",
      "6/6 [==============================] - 13s 2s/step - loss: 0.0187 - root_mean_squared_error: 0.1368 - val_loss: 0.0191 - val_root_mean_squared_error: 0.1382\n",
      "Training Time:  2.26696728070577\n"
     ]
    }
   ],
   "source": [
    "training_start = time.time()\n",
    "# Train the model on the normalized training set.\n",
    "history = the_U.fit(x=x_train, y=y_train, batch_size=batch_size, epochs=epochs, verbose = 1, validation_split=validation_split)\n",
    "\n",
    "epochs = history.epoch\n",
    "hist = pd.DataFrame(history.history)\n",
    "\n",
    "print(\"Training Time: \", (time.time() - training_start)/60)"
   ]
  },
  {
   "cell_type": "code",
   "execution_count": 14,
   "metadata": {},
   "outputs": [
    {
     "name": "stdout",
     "output_type": "stream",
     "text": [
      "\n",
      " Evaluate the new model against the test set:\n",
      "1/1 [==============================] - 1s 627ms/step - loss: 0.0236 - root_mean_squared_error: 0.1535\n",
      "[0.023570172488689423, 0.15352579951286316]\n"
     ]
    }
   ],
   "source": [
    "print(\"\\n Evaluate the new model against the test set:\")\n",
    "print(the_U.evaluate(x=x_test, y=y_test, batch_size=batch_size))"
   ]
  },
  {
   "cell_type": "code",
   "execution_count": 15,
   "metadata": {},
   "outputs": [],
   "source": [
    "prediction = the_U(x_test, training=False)"
   ]
  },
  {
   "cell_type": "code",
   "execution_count": 99,
   "metadata": {},
   "outputs": [],
   "source": [
    "def plot_results(x_test,y_test,prediction,seg_cmap=mpl.cm.viridis,spath=None):\n",
    "    \n",
    "    if spath is not None:\n",
    "        figpath = spath + '/res_im/'\n",
    "        os.mkdir(figpath)\n",
    "\n",
    "    idx = np.arange(len(prediction))\n",
    "\n",
    "    for i in random.choices(idx,k=10):\n",
    "        predict_image = prediction[i].numpy()\n",
    "        x_test_image = x_test[i]\n",
    "        y_test_image = y_test[i]\n",
    "\n",
    "        fig, ax = plt.subplots(figsize =(12,5),nrows=1,ncols=4,sharex=True,sharey=True)\n",
    "        ax[0].set_title('Input')\n",
    "\n",
    "        cmap = mpl.cm.binary\n",
    "        norm = mpl.colors.Normalize(vmin=-2.,vmax=1.)\n",
    "\n",
    "        ax[0].imshow(np.log10(x_test_image[:,:,0]),cmap=cmap,interpolation='none',norm=norm)\n",
    "\n",
    "        bounds = [-0.5,0.5,1.5,2.5,3.5]\n",
    "        norm = mpl.colors.BoundaryNorm(bounds, seg_cmap.N, extend='both')\n",
    "\n",
    "        \"\"\"\n",
    "        cmap = mpl.colors.ListedColormap(['white', 'red','green','blue'])\n",
    "        bounds = [-0.5,0.5,1.5,2.5,3.5]\n",
    "        norm = mpl.colors.BoundaryNorm(bounds, cmap.N)\n",
    "        \"\"\"\n",
    "        ax[2].set_title('Prediction')\n",
    "        ax[2].imshow(predict_image[:,:,0], norm = norm, cmap = seg_cmap,aspect=1)\n",
    "\n",
    "\n",
    "        ax[1].set_title('Truth')\n",
    "        ax[1].imshow(y_test_image[:,:,0], norm = norm, cmap = seg_cmap,aspect=1)\n",
    "\n",
    "\n",
    "        ax[-1].set_title('Contrast')\n",
    "        ax[-1].imshow(predict_image[:,:,0]-y_test_image[:,:,0], norm = norm, cmap = seg_cmap)\n",
    "\n",
    "        cax = fig.add_axes([1, 0.25, 0.01, 0.5])\n",
    "        cbar = mpl.colorbar.ColorbarBase(cax, cmap = seg_cmap, norm = norm, ticks=[0,1,2,3])\n",
    "        for i in range(4):\n",
    "            #ax[i].axis('off')\n",
    "            ax[i].set_xticks([])\n",
    "            ax[i].set_yticks([])\n",
    "\n",
    "        plt.tight_layout()\n",
    "        plt.subplots_adjust(wspace=0.05)\n",
    "        if spath is not None:\n",
    "            plt.savefig(figpath + '{}.png'.format(i),dpi=200,bbox_inches='tight')\n",
    "        plt.show()\n",
    "        plt.close()"
   ]
  },
  {
   "cell_type": "code",
   "execution_count": 100,
   "metadata": {},
   "outputs": [
    {
     "name": "stderr",
     "output_type": "stream",
     "text": [
      "<ipython-input-99-b88e8fb46135>:20: RuntimeWarning: divide by zero encountered in log10\n",
      "  ax[0].imshow(np.log10(x_test_image[:,:,0]),cmap=cmap,interpolation='none',norm=norm)\n",
      "<ipython-input-99-b88e8fb46135>:48: UserWarning: This figure includes Axes that are not compatible with tight_layout, so results might be incorrect.\n",
      "  plt.tight_layout()\n"
     ]
    },
    {
     "data": {
      "image/png": "[encoded data removed]",
      "text/plain": [
       "<Figure size 864x360 with 5 Axes>"
      ]
     },
     "metadata": {
      "needs_background": "light"
     },
     "output_type": "display_data"
    },
    {
     "data": {
      "image/png": "[encoded data removed]",
      "text/plain": [
       "<Figure size 864x360 with 5 Axes>"
      ]
     },
     "metadata": {
      "needs_background": "light"
     },
     "output_type": "display_data"
    },
    {
     "data": {
      "image/png": "[encoded data removed]",
      "text/plain": [
       "<Figure size 864x360 with 5 Axes>"
      ]
     },
     "metadata": {
      "needs_background": "light"
     },
     "output_type": "display_data"
    },
    {
     "data": {
      "image/png": "[encoded data removed]",
      "text/plain": [
       "<Figure size 864x360 with 5 Axes>"
      ]
     },
     "metadata": {
      "needs_background": "light"
     },
     "output_type": "display_data"
    },
    {
     "data": {
      "image/png": "[encoded data removed]",
      "text/plain": [
       "<Figure size 864x360 with 5 Axes>"
      ]
     },
     "metadata": {
      "needs_background": "light"
     },
     "output_type": "display_data"
    },
    {
     "data": {
      "image/png": "[encoded data removed]",
      "text/plain": [
       "<Figure size 864x360 with 5 Axes>"
      ]
     },
     "metadata": {
      "needs_background": "light"
     },
     "output_type": "display_data"
    },
    {
     "data": {
      "image/png": "[encoded data removed]",
      "text/plain": [
       "<Figure size 864x360 with 5 Axes>"
      ]
     },
     "metadata": {
      "needs_background": "light"
     },
     "output_type": "display_data"
    },
    {
     "data": {
      "image/png": "[encoded data removed]",
      "text/plain": [
       "<Figure size 864x360 with 5 Axes>"
      ]
     },
     "metadata": {
      "needs_background": "light"
     },
     "output_type": "display_data"
    },
    {
     "data": {
      "image/png": "[encoded data removed]",
      "text/plain": [
       "<Figure size 864x360 with 5 Axes>"
      ]
     },
     "metadata": {
      "needs_background": "light"
     },
     "output_type": "display_data"
    },
    {
     "data": {
      "image/png": "[encoded data removed]",
      "text/plain": [
       "<Figure size 864x360 with 5 Axes>"
      ]
     },
     "metadata": {
      "needs_background": "light"
     },
     "output_type": "display_data"
    }
   ],
   "source": [
    "plot_results(x_test=x_test,\n",
    "             y_test=y_test,\n",
    "             prediction=prediction,\n",
    "             seg_cmap=mpl.cm.rainbow,\n",
    "             spath=None)"
   ]
  },
  {
   "cell_type": "code",
   "execution_count": null,
   "metadata": {},
   "outputs": [],
   "source": []
  }
 ],
 "metadata": {
  "kernelspec": {
   "display_name": "Python 3",
   "language": "python",
   "name": "python3"
  },
  "language_info": {
   "codemirror_mode": {
    "name": "ipython",
    "version": 3
   },
   "file_extension": ".py",
   "mimetype": "text/x-python",
   "name": "python",
   "nbconvert_exporter": "python",
   "pygments_lexer": "ipython3",
   "version": "3.8.5"
  }
 },
 "nbformat": 4,
 "nbformat_minor": 4
}
