{
 "cells": [
  {
   "cell_type": "code",
   "execution_count": 1,
   "metadata": {},
   "outputs": [],
   "source": [
    "import sys\n",
    "from os.path import expanduser\n",
    "home = expanduser(\"~\")\n",
    "\n",
    "sys.path.append(home+'/repos/ClusNet/code/modules/')\n",
    "\n",
    "from ClusNet import Cluster\n",
    "from ClusNet import model as m\n",
    "from ClusNet import dataset as ds\n",
    "\n",
    "# matplotlib\n",
    "import matplotlib.pylab as plt\n",
    "import matplotlib as mpl\n",
    "from matplotlib import colors\n",
    "\n",
    "from mpl_toolkits.axes_grid1.axes_divider import make_axes_locatable\n",
    "\n",
    "# statistics\n",
    "import numpy as np\n",
    "from scipy import signal\n",
    "\n",
    "# object support\n",
    "import copy\n",
    "\n",
    "# time keeping\n",
    "import time\n",
    "from datetime import timedelta\n",
    "\n",
    "# data munging\n",
    "import random, string\n",
    "import pandas as pd\n",
    "\n",
    "# operating system\n",
    "import os\n",
    "import glob\n",
    "# tensorflow\n",
    "from tensorflow.keras.optimizers import Adam\n",
    "import tensorflow as tf\n",
    "from tensorflow import keras\n",
    "from tensorflow.keras import layers\n",
    "\n",
    "# keras support\n",
    "from keras.models import model_from_yaml\n",
    "import keras\n",
    "import glob\n",
    "from os.path import expanduser\n",
    "home = expanduser(\"~\")\n",
    "\n",
    "import numpy as np\n",
    "import random\n",
    "from scipy import ndimage\n",
    "from scipy.ndimage import gaussian_filter\n",
    "\n",
    "label_size = 12\n",
    "mpl.rcParams['legend.fontsize'] = label_size\n",
    "mpl.rcParams['axes.labelsize'] = label_size\n",
    "mpl.rcParams['xtick.labelsize'] = label_size\n",
    "mpl.rcParams['ytick.labelsize'] = label_size"
   ]
  },
  {
   "cell_type": "code",
   "execution_count": 2,
   "metadata": {},
   "outputs": [],
   "source": [
    "clusglob = glob.glob('../../data/eROSITA_no_background/*.fits')\n",
    "\n",
    "x = Cluster.Cluster(fpath=clusglob[150])\n",
    "x.add_agn(num=3)\n",
    "x.shift()\n",
    "(cluster_mask, agn_mask) = x.get_mask()"
   ]
  },
  {
   "cell_type": "code",
   "execution_count": 3,
   "metadata": {},
   "outputs": [
    {
     "name": "stdout",
     "output_type": "stream",
     "text": [
      "(384, 384, 3)\n"
     ]
    }
   ],
   "source": [
    "agns = []\n",
    "for i in range(3):\n",
    "    std = np.random.uniform(0.05,0.2,size=None)\n",
    "    agn_ = ds.Profile(std=std,im_size=(384,384))  \n",
    "    agn_.shift()\n",
    "    agns.append(agn_.image)\n",
    "agns = np.array(agns).T\n",
    "print(agns.shape)"
   ]
  },
  {
   "cell_type": "code",
   "execution_count": 5,
   "metadata": {},
   "outputs": [
    {
     "name": "stdout",
     "output_type": "stream",
     "text": [
      "{0, 1, 2, 3}\n",
      "{0, 1, 2, 3}\n",
      "{0, 1}\n"
     ]
    },
    {
     "data": {
      "image/png": "[encoded data removed]",
      "text/plain": [
       "<Figure size 864x360 with 4 Axes>"
      ]
     },
     "metadata": {
      "needs_background": "light"
     },
     "output_type": "display_data"
    }
   ],
   "source": [
    "#cmaps = [plt.cm.viridis,plt.cm.vir,plt.cm.binary,plt.cm.binary]\n",
    "cmaps = [plt.cm.viridis]*4\n",
    "clusglob = glob.glob('../../data/eROSITA_no_background/*.fits')\n",
    "x = Cluster.Cluster(fpath=clusglob[120])\n",
    "x.add_agn(num=3)\n",
    "\n",
    "x.add_poisson()\n",
    "x.shift()\n",
    "(cluster_mask, agn_mask) = x.get_mask()\n",
    "catnum_matrix = np.add(np.array(cluster_mask), np.array(agn_mask)*2)\n",
    "print(set(catnum_matrix.flatten()))\n",
    "labels = ['negative','cluster','agn','intersection']\n",
    "fig, ax = plt.subplots(figsize=(12,5),\n",
    "                       nrows=1,\n",
    "                       ncols=4,\n",
    "                       sharex=True,\n",
    "                       sharey=True)\n",
    "\n",
    "catnum_matrix = np.add(np.array(cluster_mask), np.array(agn_mask)*2)\n",
    "print(set(catnum_matrix.flatten()))\n",
    "intersection_map = (catnum_matrix==3)*2\n",
    "negative_map = (catnum_matrix==0)*1\n",
    "print(set(intersection_map.flatten()))\n",
    "\n",
    "maps = [negative_map,cluster_mask,agn_mask,intersection_map]\n",
    "for i, cmap, label, map_ in zip({0,1,2,3},cmaps,labels,maps):\n",
    "    #cmap.set_under('k',alpha=0)\n",
    "    ax[i].imshow(map_,cmap=cmap,interpolation=None)\n",
    "    ax[i].annotate(label, xy=(1, 1), xycoords='axes fraction', fontsize=16,\n",
    "                horizontalalignment='right', verticalalignment='bottom',color='red')\n",
    "#    ax[i].set_xlim(150,250)\n",
    "#    ax[i].set_ylim(150,250)\n",
    "plt.tight_layout()\n",
    "plt.subplots_adjust(wspace=0)\n",
    "plt.show()\n",
    "plt.close()"
   ]
  },
  {
   "cell_type": "code",
   "execution_count": null,
   "metadata": {},
   "outputs": [],
   "source": [
    "set(x.get_mask().flatten())"
   ]
  },
  {
   "cell_type": "code",
   "execution_count": null,
   "metadata": {},
   "outputs": [],
   "source": [
    "clusfpaths = random.choices(clusglob,k=1)\n",
    "for i, clusfpath in enumerate(clusfpaths):\n",
    "    cmap = plt.cm.viridis\n",
    "\n",
    "    #Cluster.printProgressBar(total=len(clusglob),iteration=i)\n",
    "    x = Cluster.Cluster(fpath=clusfpath)\n",
    "    fig, axes = plt.subplots(nrows=1,ncols=3,figsize=(8,5),sharex=True,sharey=True)\n",
    "\n",
    "    im = x.image\n",
    "    axes[0].imshow(np.log10(im),interpolation='none',cmap=cmap,vmin=0)\n",
    "    axes[0].set_title('original')\n",
    "    \n",
    "    x.add_noise(agn=True,poisson=False)\n",
    "    cmap = mpl.colors.viridis\n",
    "\n",
    "\n",
    "    im_noise = x.agn\n",
    "    mask = im_noise == 0.\n",
    "    im_noise_ma = np.ma.array(np.log10(im_noise), mask=mask)\n",
    "    axes[1].imshow(np.log10(x.agn),interpolation='none',cmap=cmap,vmin=0)\n",
    "    axes[1].set_title('original')\n",
    "\n",
    "    \n",
    "    ims = [im_ma,im_noise_ma]\n",
    "    \n",
    "    im_strs = ['original','noise']\n",
    "            \n",
    "    \n",
    "    cats = ['background','cluster','agn','intersect']\n",
    "    segment = x.get_mask()\n",
    "    print(set(segment.flatten()))\n",
    "    \n",
    "    # tell imshow about color map so that only set colors are used\n",
    "    cmap = colors.ListedColormap(['white', 'red', 'blue', 'black'])\n",
    "    bounds = [-0.5, 0.5, 1.5, 2.5, 3.5]\n",
    "    norm = colors.BoundaryNorm(bounds, cmap.N)\n",
    "    axes[-1].imshow(segment, interpolation='nearest', cmap=cmap, norm=norm,vmin=0,vmax=3)\n",
    "    \n",
    "    \n",
    "    axes[-1].set_title('smoothed-segmented')\n",
    "    cluster_row = x.meta\n",
    "    log_m = np.log10(cluster_row['M500_msolh'])[0]\n",
    "    title_str1 = 'Cluster {} |'.format(x.id)\n",
    "    title_str = title_str1 + r'$ \\ \\log\\left(M_\\mathrm{500c} \\ h \\ {M{_\\odot}}^{-1}\\right) = $'+'{:.2f}'.format(log_m)\n",
    "    plt.suptitle(title_str,fontsize=14,y=0.85)\n",
    "    plt.tight_layout()\n",
    "    plt.subplots_adjust(wspace=0.)\n",
    "    #plt.savefig('seg_figs/m-{}_clus-{}_seg.png'.format(int(log_m*100),x.id),dpi=200,bbox_inches='tight')\n",
    "    plt.show()\n",
    "    plt.close()\n",
    "    break"
   ]
  },
  {
   "cell_type": "code",
   "execution_count": null,
   "metadata": {},
   "outputs": [],
   "source": []
  },
  {
   "cell_type": "code",
   "execution_count": null,
   "metadata": {},
   "outputs": [],
   "source": []
  }
 ],
 "metadata": {
  "kernelspec": {
   "display_name": "Python 3",
   "language": "python",
   "name": "python3"
  },
  "language_info": {
   "codemirror_mode": {
    "name": "ipython",
    "version": 3
   },
   "file_extension": ".py",
   "mimetype": "text/x-python",
   "name": "python",
   "nbconvert_exporter": "python",
   "pygments_lexer": "ipython3",
   "version": "3.8.5"
  }
 },
 "nbformat": 4,
 "nbformat_minor": 4
}
