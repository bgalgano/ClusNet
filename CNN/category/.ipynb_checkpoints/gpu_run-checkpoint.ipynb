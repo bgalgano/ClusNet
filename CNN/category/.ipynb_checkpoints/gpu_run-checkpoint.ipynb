{
 "cells": [
  {
   "cell_type": "code",
   "execution_count": 7,
   "metadata": {},
   "outputs": [],
   "source": [
    "from astropy.table import Table\n",
    "from datetime import timedelta\n",
    "from glob import glob\n",
    "\n",
    "import pandas as pd\n",
    "from pathlib import Path\n",
    "import matplotlib.pylab as plt\n",
    "import matplotlib as mpl\n",
    "from mpl_toolkits.axes_grid1 import make_axes_locatable\n",
    "import numpy as np\n",
    "import os\n",
    "\n",
    "import sys\n",
    "import random, string\n",
    "\n",
    "# tensorflow\n",
    "from tensorflow.keras.optimizers import Adam\n",
    "import tensorflow as tf\n",
    "from tensorflow.keras.models import model_from_yaml\n",
    "from tensorflow.keras.callbacks import CSVLogger\n",
    "from time import gmtime, strftime\n",
    "import time \n",
    "\n",
    "home = os.path.expanduser(\"~\")\n",
    "\n",
    "sys.path.append(home+'/repos/ClusNet/code/modules/')\n",
    "from ClustNet import Cluster\n",
    "from ClustNet import model as m"
   ]
  },
  {
   "cell_type": "markdown",
   "metadata": {},
   "source": [
    "Define model parameters"
   ]
  },
  {
   "cell_type": "code",
   "execution_count": 8,
   "metadata": {},
   "outputs": [],
   "source": [
    "# data\n",
    "im_size = 384\n",
    "k = 0.80 # percentage of \n",
    "\n",
    "# compiler\n",
    "metrics = [\"accuracy\"]\n",
    "opt=tf.keras.optimizers.Adam(lr=0.005)\n",
    "\n",
    "# training \n",
    "epochs = 100\n",
    "input_shape = (im_size,im_size,1) # width, height, channel number\n",
    "pool_size = (2,2)\n",
    "kernel_size = (3,3)\n",
    "activation = 'relu'\n",
    "strides = 2\n",
    "\n",
    "# GPU\n",
    "batch_size = 2"
   ]
  },
  {
   "cell_type": "markdown",
   "metadata": {},
   "source": [
    "Define environment settings"
   ]
  },
  {
   "cell_type": "code",
   "execution_count": 9,
   "metadata": {},
   "outputs": [],
   "source": [
    "# tensorflow \n",
    "os.environ['TF_XLA_FLAGS'] = '--tf_xla_enable_xla_devices'\n",
    "os.environ['CUDA_VISIBLE_DEVICES'] = '0'\n",
    "\n",
    "# plot\n",
    "label_size = 14\n",
    "mpl.rcParams['legend.fontsize'] = label_size\n",
    "mpl.rcParams['axes.labelsize'] = label_size\n",
    "mpl.rcParams['axes.labelpad'] = 10\n",
    "mpl.rcParams['xtick.labelsize'] = label_size\n",
    "mpl.rcParams['ytick.labelsize'] = label_size\n",
    "\n",
    "# print\n",
    "np.set_printoptions(precision=3, suppress=True)"
   ]
  },
  {
   "cell_type": "markdown",
   "metadata": {},
   "source": [
    "Generate model"
   ]
  },
  {
   "cell_type": "code",
   "execution_count": 10,
   "metadata": {},
   "outputs": [
    {
     "name": "stdout",
     "output_type": "stream",
     "text": [
      "Model: \"sequential\"\n",
      "_________________________________________________________________\n",
      "Layer (type)                 Output Shape              Param #   \n",
      "=================================================================\n",
      "conv2d (Conv2D)              (None, 384, 384, 16)      160       \n",
      "_________________________________________________________________\n",
      "max_pooling2d (MaxPooling2D) (None, 192, 192, 16)      0         \n",
      "_________________________________________________________________\n",
      "conv2d_1 (Conv2D)            (None, 192, 192, 32)      4640      \n",
      "_________________________________________________________________\n",
      "max_pooling2d_1 (MaxPooling2 (None, 96, 96, 32)        0         \n",
      "_________________________________________________________________\n",
      "conv2d_2 (Conv2D)            (None, 96, 96, 64)        18496     \n",
      "_________________________________________________________________\n",
      "max_pooling2d_2 (MaxPooling2 (None, 48, 48, 64)        0         \n",
      "_________________________________________________________________\n",
      "global_average_pooling2d (Gl (None, 64)                0         \n",
      "_________________________________________________________________\n",
      "dropout (Dropout)            (None, 64)                0         \n",
      "_________________________________________________________________\n",
      "dense (Dense)                (None, 200)               13000     \n",
      "_________________________________________________________________\n",
      "dropout_1 (Dropout)          (None, 200)               0         \n",
      "_________________________________________________________________\n",
      "dense_1 (Dense)              (None, 100)               20100     \n",
      "_________________________________________________________________\n",
      "dense_2 (Dense)              (None, 20)                2020      \n",
      "_________________________________________________________________\n",
      "dense_3 (Dense)              (None, 1)                 21        \n",
      "=================================================================\n",
      "Total params: 58,437\n",
      "Trainable params: 58,437\n",
      "Non-trainable params: 0\n",
      "_________________________________________________________________\n"
     ]
    }
   ],
   "source": [
    "# generate model\n",
    "model = m.generate_model(kernel_size=kernel_size,\n",
    "                         pool_size=pool_size,\n",
    "                         activation=activation,\n",
    "                         strides=2,\n",
    "                         input_shape=input_shape)"
   ]
  },
  {
   "cell_type": "markdown",
   "metadata": {},
   "source": [
    "Compile model"
   ]
  },
  {
   "cell_type": "code",
   "execution_count": 12,
   "metadata": {},
   "outputs": [],
   "source": [
    "# compile model\n",
    "loss = tf.keras.losses.BinaryCrossentropy()\n",
    "model.compile(optimizer=opt,\n",
    "              loss=loss,\n",
    "              metrics=metrics)"
   ]
  },
  {
   "cell_type": "markdown",
   "metadata": {},
   "source": [
    "Load data"
   ]
  },
  {
   "cell_type": "code",
   "execution_count": null,
   "metadata": {},
   "outputs": [],
   "source": [
    "# load data\n",
    "training_data, validation_data, modeldir = Cluster.load_dataset(k=k,validation_split=0.20)\n",
    "x_train, y_train = training_data\n",
    "validation_x, validation_y = validation_data"
   ]
  },
  {
   "cell_type": "markdown",
   "metadata": {},
   "source": [
    "Train model"
   ]
  },
  {
   "cell_type": "code",
   "execution_count": null,
   "metadata": {},
   "outputs": [],
   "source": [
    "print(\"\\n********LEARNING START********\")\n",
    "start = time.time()\n",
    "\n",
    "model_id = os.path.basename(os.path.normpath(modeldir))\n",
    "csv_logger = CSVLogger(modeldir+'/history_{}.log'.format(model_id), separator=',', append=False)\n",
    "\n",
    "history = model.fit(x=x_train,\n",
    "                    y=y_train,\n",
    "                    epochs=epochs,\n",
    "                    batch_size=batch_size,\n",
    "                    validation_data=(validation_x, validation_y),\n",
    "                    verbose=2,\n",
    "                   callbacks=[csv_logger])\n",
    "\n",
    "\n",
    "\n",
    "print(\"********LEARNING END********\")\n",
    "elapsed = time.time() - start\n",
    "print(\"\\nTIME:\",str(timedelta(seconds=elapsed)))"
   ]
  },
  {
   "cell_type": "code",
   "execution_count": null,
   "metadata": {},
   "outputs": [],
   "source": [
    "# save model assets\n",
    "print(\"\\nModel assets saved to:\", modeldir)\n",
    "model.save(modeldir)\n",
    "\n",
    "# plot loss and accuracy\n",
    "m.plot_metrics(history=history,\n",
    "             spath=modeldir,\n",
    "             model_id=model_id)\n",
    "\n",
    "y_train_model = model.predict(x_train,verbose=1,batch_size=batch_size)\n",
    "validation_y_model = model.predict(validation_x,verbose=1,batch_size=batch_size)\n",
    "\n",
    "# plot 1-to-1\n",
    "m.plot_1to1(y_train=y_train,\n",
    "          y_train_model=y_train_model,\n",
    "          validation_y=validation_y,\n",
    "          validation_y_model=validation_y_model,\n",
    "          spath=modeldir,\n",
    "          model_id=model_id)\n",
    "\n",
    "# plot residuals\n",
    "m.plot_resid(y_train=y_train,\n",
    "          y_train_model=y_train_model,\n",
    "          validation_y=validation_y,\n",
    "          validation_y_model=validation_y_model,\n",
    "          spath=modeldir,\n",
    "          model_id=model_id)"
   ]
  }
 ],
 "metadata": {
  "kernelspec": {
   "display_name": "Python [conda root]",
   "language": "python",
   "name": "conda-root-py"
  },
  "language_info": {
   "codemirror_mode": {
    "name": "ipython",
    "version": 3
   },
   "file_extension": ".py",
   "mimetype": "text/x-python",
   "name": "python",
   "nbconvert_exporter": "python",
   "pygments_lexer": "ipython3",
   "version": "3.8.5"
  }
 },
 "nbformat": 4,
 "nbformat_minor": 2
}
