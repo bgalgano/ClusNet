{
 "cells": [
  {
   "cell_type": "code",
   "execution_count": 1,
   "metadata": {},
   "outputs": [],
   "source": [
    "from astropy.table import Table\n",
    "from datetime import timedelta\n",
    "from glob import glob\n",
    "\n",
    "import pandas as pd\n",
    "from pathlib import Path\n",
    "import matplotlib.pylab as plt\n",
    "import matplotlib as mpl\n",
    "from mpl_toolkits.axes_grid1 import make_axes_locatable\n",
    "import numpy as np\n",
    "import os\n",
    "\n",
    "import sys\n",
    "import random, string\n",
    "\n",
    "# tensorflow\n",
    "from tensorflow.keras.optimizers import Adam\n",
    "import tensorflow as tf\n",
    "from tensorflow.keras.models import model_from_yaml\n",
    "from tensorflow.keras.callbacks import CSVLogger\n",
    "from time import gmtime, strftime\n",
    "import time "
   ]
  },
  {
   "cell_type": "code",
   "execution_count": 2,
   "metadata": {},
   "outputs": [],
   "source": [
    "from os.path import expanduser\n",
    "home = expanduser(\"~\")\n",
    "\n",
    "sys.path.append(home+'/repos/ClusNet/code/modules/')\n",
    "\n",
    "from ClusNet import Cluster\n",
    "from ClusNet import model as m"
   ]
  },
  {
   "cell_type": "markdown",
   "metadata": {},
   "source": [
    "Define model parameters"
   ]
  },
  {
   "cell_type": "code",
   "execution_count": 3,
   "metadata": {},
   "outputs": [],
   "source": [
    "# data\n",
    "im_size = 384\n",
    "k = 0.02 # percentage of \n",
    "\n",
    "# compiler\n",
    "metrics = [\"accuracy\"]\n",
    "opt=tf.keras.optimizers.Adam(lr=0.005)\n",
    "\n",
    "# training \n",
    "epochs = 10\n",
    "input_shape = (im_size,im_size,1) # width, height, channel number\n",
    "pool_size = (2,2)\n",
    "kernel_size = (3,3)\n",
    "activation = 'relu'\n",
    "strides = 2\n",
    "\n",
    "# GPU\n",
    "batch_size = 2"
   ]
  },
  {
   "cell_type": "markdown",
   "metadata": {},
   "source": [
    "Define environment settings"
   ]
  },
  {
   "cell_type": "code",
   "execution_count": 4,
   "metadata": {},
   "outputs": [],
   "source": [
    "# tensorflow \n",
    "os.environ['TF_XLA_FLAGS'] = '--tf_xla_enable_xla_devices'\n",
    "os.environ['CUDA_VISIBLE_DEVICES'] = '0'\n",
    "\n",
    "# plot\n",
    "label_size = 14\n",
    "mpl.rcParams['legend.fontsize'] = label_size\n",
    "mpl.rcParams['axes.labelsize'] = label_size\n",
    "mpl.rcParams['axes.labelpad'] = 10\n",
    "mpl.rcParams['xtick.labelsize'] = label_size\n",
    "mpl.rcParams['ytick.labelsize'] = label_size\n",
    "\n",
    "# print\n",
    "np.set_printoptions(precision=3, suppress=True)"
   ]
  },
  {
   "cell_type": "markdown",
   "metadata": {},
   "source": [
    "Generate model"
   ]
  },
  {
   "cell_type": "code",
   "execution_count": 5,
   "metadata": {},
   "outputs": [
    {
     "name": "stdout",
     "output_type": "stream",
     "text": [
      "Model: \"sequential\"\n",
      "_________________________________________________________________\n",
      "Layer (type)                 Output Shape              Param #   \n",
      "=================================================================\n",
      "conv2d (Conv2D)              (None, 384, 384, 16)      160       \n",
      "_________________________________________________________________\n",
      "max_pooling2d (MaxPooling2D) (None, 192, 192, 16)      0         \n",
      "_________________________________________________________________\n",
      "conv2d_1 (Conv2D)            (None, 192, 192, 32)      4640      \n",
      "_________________________________________________________________\n",
      "max_pooling2d_1 (MaxPooling2 (None, 96, 96, 32)        0         \n",
      "_________________________________________________________________\n",
      "conv2d_2 (Conv2D)            (None, 96, 96, 64)        18496     \n",
      "_________________________________________________________________\n",
      "max_pooling2d_2 (MaxPooling2 (None, 48, 48, 64)        0         \n",
      "_________________________________________________________________\n",
      "global_average_pooling2d (Gl (None, 64)                0         \n",
      "_________________________________________________________________\n",
      "dropout (Dropout)            (None, 64)                0         \n",
      "_________________________________________________________________\n",
      "dense (Dense)                (None, 200)               13000     \n",
      "_________________________________________________________________\n",
      "dropout_1 (Dropout)          (None, 200)               0         \n",
      "_________________________________________________________________\n",
      "dense_1 (Dense)              (None, 100)               20100     \n",
      "_________________________________________________________________\n",
      "dense_2 (Dense)              (None, 20)                2020      \n",
      "_________________________________________________________________\n",
      "dense_3 (Dense)              (None, 1)                 21        \n",
      "=================================================================\n",
      "Total params: 58,437\n",
      "Trainable params: 58,437\n",
      "Non-trainable params: 0\n",
      "_________________________________________________________________\n"
     ]
    }
   ],
   "source": [
    "# generate model\n",
    "model = m.generate_model(kernel_size=kernel_size,\n",
    "                         pool_size=pool_size,\n",
    "                         activation=activation,\n",
    "                         strides=2,\n",
    "                         input_shape=input_shape)"
   ]
  },
  {
   "cell_type": "markdown",
   "metadata": {},
   "source": [
    "Compile model"
   ]
  },
  {
   "cell_type": "code",
   "execution_count": 6,
   "metadata": {},
   "outputs": [],
   "source": [
    "# compile model\n",
    "loss = tf.keras.losses.BinaryCrossentropy()\n",
    "model.compile(optimizer=opt,\n",
    "              loss=loss,\n",
    "              metrics=metrics)"
   ]
  },
  {
   "cell_type": "code",
   "execution_count": null,
   "metadata": {},
   "outputs": [],
   "source": [
    "size=5\n",
    "nrows = size\n",
    "ncols = size\n",
    "k = nrows * ncols\n",
    "fig, axes = plt.subplots(nrows=nrows,\n",
    "                         ncols=ncols,\n",
    "                         figsize=(6,6))\n",
    "\n",
    "\n",
    "#clusglob = glob(globdir + '*.fits')\n",
    "#clusfpaths = random.choices(clusglob,k=k)\n",
    "\n",
    "dataset = x_train\n",
    "labels = y_train\n",
    "\n",
    "\n",
    "x = list(range(k*2))\n",
    "random.shuffle(x)\n",
    "idx = random.choices(x, k=k)\n",
    "\n",
    "dataset = np.array(dataset)[idx]\n",
    "labels = np.array(labels)[idx]\n",
    "\n",
    "for i, ax in enumerate(axes.flat):\n",
    "    image = dataset[i]\n",
    "    cmap.set_bad(color='gray')\n",
    "    ax.imshow(image,interpolation='none',cmap=cmap)\n",
    "    ax.text(0.90, 0.90,labels[i],\n",
    "            horizontalalignment='center',\n",
    "            verticalalignment='center',\n",
    "            transform = ax.transAxes,\n",
    "            color=\"white\",\n",
    "           weight='bold')\n",
    "    ax.set_yticks([]), ax.set_xticks([])\n",
    "\n",
    "space = 0.05\n",
    "plt.tight_layout()\n",
    "plt.subplots_adjust(wspace=space,hspace=space)\n",
    "fpath = spath + 'dataset_{}x{}_view.png'.format(size,size)\n",
    "#plt.savefig(fpath,dpi=300)\n",
    "plt.show()\n",
    "plt.close()"
   ]
  },
  {
   "cell_type": "markdown",
   "metadata": {},
   "source": [
    "Load data"
   ]
  },
  {
   "cell_type": "code",
   "execution_count": 7,
   "metadata": {},
   "outputs": [
    {
     "name": "stdout",
     "output_type": "stream",
     "text": [
      "Loading 46 clusters...\n",
      "-Adding 46 negatives...\n",
      "Done.\n",
      "\n",
      "Training image shape: (73, 384, 384, 1)\n",
      "Training labels shape: (73, 1)\n",
      "y_train [[1]\n",
      " [0]\n",
      " [0]\n",
      " [0]\n",
      " [1]\n",
      " [1]\n",
      " [1]\n",
      " [0]\n",
      " [1]\n",
      " [1]\n",
      " [1]\n",
      " [1]\n",
      " [1]\n",
      " [1]\n",
      " [1]\n",
      " [0]\n",
      " [0]\n",
      " [1]\n",
      " [0]\n",
      " [0]\n",
      " [0]\n",
      " [1]\n",
      " [1]\n",
      " [1]\n",
      " [1]\n",
      " [1]\n",
      " [0]\n",
      " [1]\n",
      " [1]\n",
      " [0]\n",
      " [1]\n",
      " [0]\n",
      " [0]\n",
      " [1]\n",
      " [0]\n",
      " [0]\n",
      " [1]\n",
      " [0]\n",
      " [1]\n",
      " [0]\n",
      " [1]\n",
      " [0]\n",
      " [0]\n",
      " [1]\n",
      " [1]\n",
      " [1]\n",
      " [0]\n",
      " [0]\n",
      " [0]\n",
      " [1]\n",
      " [0]\n",
      " [0]\n",
      " [1]\n",
      " [1]\n",
      " [0]\n",
      " [0]\n",
      " [0]\n",
      " [1]\n",
      " [0]\n",
      " [0]\n",
      " [0]\n",
      " [0]\n",
      " [1]\n",
      " [0]\n",
      " [1]\n",
      " [1]\n",
      " [0]\n",
      " [0]\n",
      " [1]\n",
      " [0]\n",
      " [0]\n",
      " [1]\n",
      " [1]]\n",
      "\n",
      "Validation image shape: (19, 384, 384, 1)\n",
      "Validation labels shape: (19, 1)\n",
      "y_validation [[0]\n",
      " [1]\n",
      " [1]\n",
      " [0]\n",
      " [1]\n",
      " [0]\n",
      " [0]\n",
      " [0]\n",
      " [1]\n",
      " [1]\n",
      " [1]\n",
      " [1]\n",
      " [1]\n",
      " [0]\n",
      " [0]\n",
      " [0]\n",
      " [0]\n",
      " [1]\n",
      " [0]]\n",
      "\n",
      "Model directory created --> /Users/erebor/repos/ClusNet/models/category/226Jn\n",
      "\n",
      "Saving dataset paths to--> /Users/erebor/repos/ClusNet/models/category/226Jn\n"
     ]
    }
   ],
   "source": [
    "# load data\n",
    "training_data, validation_data, modeldir = Cluster.load_dataset(k=k,validation_split=0.20)\n",
    "x_train, y_train = training_data\n",
    "validation_x, validation_y = validation_data"
   ]
  },
  {
   "cell_type": "markdown",
   "metadata": {},
   "source": [
    "Train model"
   ]
  },
  {
   "cell_type": "code",
   "execution_count": 8,
   "metadata": {},
   "outputs": [
    {
     "name": "stdout",
     "output_type": "stream",
     "text": [
      "\n",
      "********LEARNING START********\n",
      "Epoch 1/10\n",
      "37/37 - 3s - loss: 0.6944 - accuracy: 0.4658 - val_loss: 0.6934 - val_accuracy: 0.4737\n",
      "Epoch 2/10\n",
      "37/37 - 3s - loss: 0.6950 - accuracy: 0.5068 - val_loss: 0.6938 - val_accuracy: 0.4737\n",
      "Epoch 3/10\n",
      "37/37 - 3s - loss: 0.6934 - accuracy: 0.5068 - val_loss: 0.6936 - val_accuracy: 0.4737\n",
      "Epoch 4/10\n",
      "37/37 - 3s - loss: 0.6942 - accuracy: 0.3973 - val_loss: 0.6933 - val_accuracy: 0.4737\n",
      "Epoch 5/10\n",
      "37/37 - 3s - loss: 0.6935 - accuracy: 0.5068 - val_loss: 0.6936 - val_accuracy: 0.4737\n",
      "Epoch 6/10\n",
      "37/37 - 3s - loss: 0.6938 - accuracy: 0.5068 - val_loss: 0.6937 - val_accuracy: 0.4737\n",
      "Epoch 7/10\n",
      "37/37 - 3s - loss: 0.6931 - accuracy: 0.5068 - val_loss: 0.6939 - val_accuracy: 0.4737\n",
      "Epoch 8/10\n",
      "37/37 - 3s - loss: 0.6941 - accuracy: 0.5068 - val_loss: 0.6939 - val_accuracy: 0.4737\n",
      "Epoch 9/10\n",
      "37/37 - 3s - loss: 0.6937 - accuracy: 0.5068 - val_loss: 0.6937 - val_accuracy: 0.4737\n",
      "Epoch 10/10\n",
      "37/37 - 3s - loss: 0.6935 - accuracy: 0.5068 - val_loss: 0.6943 - val_accuracy: 0.4737\n",
      "********LEARNING END********\n",
      "\n",
      "TIME: 0:00:26.716645\n"
     ]
    }
   ],
   "source": [
    "print(\"\\n********LEARNING START********\")\n",
    "start = time.time()\n",
    "\n",
    "model_id = os.path.basename(os.path.normpath(modeldir))\n",
    "\n",
    "csv_logger = CSVLogger(modeldir + '/history_{}.log'.format(model_id),\n",
    "                       separator=',',\n",
    "                       append=False)\n",
    "\n",
    "history = model.fit(x=x_train,\n",
    "                    y=y_train,\n",
    "                    epochs=epochs,\n",
    "                    batch_size=batch_size,\n",
    "                    validation_data=(validation_x, validation_y),\n",
    "                    verbose=2,\n",
    "                   callbacks=[csv_logger])\n",
    "\n",
    "\n",
    "\n",
    "print(\"********LEARNING END********\")\n",
    "elapsed = time.time() - start\n",
    "print(\"\\nTIME:\",str(timedelta(seconds=elapsed)))"
   ]
  },
  {
   "cell_type": "code",
   "execution_count": 9,
   "metadata": {},
   "outputs": [
    {
     "name": "stdout",
     "output_type": "stream",
     "text": [
      "\n",
      "Model assets saved to: /Users/erebor/repos/ClusNet/models/category/226Jn\n",
      "INFO:tensorflow:Assets written to: /Users/erebor/repos/ClusNet/models/category/226Jn/assets\n"
     ]
    },
    {
     "data": {
      "image/png": "[encoded data removed]",
      "text/plain": [
       "<Figure size 432x360 with 2 Axes>"
      ]
     },
     "metadata": {
      "needs_background": "light"
     },
     "output_type": "display_data"
    },
    {
     "name": "stdout",
     "output_type": "stream",
     "text": [
      "\n",
      "---> metrics plot saved to: /Users/erebor/repos/ClusNet/models/category/226Jn/accuracy_loss_226Jn.png\n",
      "37/37 [==============================] - 1s 14ms/step\n",
      "10/10 [==============================] - 0s 14ms/step\n",
      "\n",
      "---> 1to1 plot saved to: /Users/erebor/repos/ClusNet/models/category/226Jn/1to1_center_xy_226Jn.png\n",
      "\n",
      "\n",
      "---> residual plot saved to: /Users/erebor/repos/ClusNet/models/category/226Jn/resid_226Jn.png\n"
     ]
    },
    {
     "data": {
      "image/png": "[encoded data removed]",
      "text/plain": [
       "<Figure size 360x360 with 2 Axes>"
      ]
     },
     "metadata": {
      "needs_background": "light"
     },
     "output_type": "display_data"
    }
   ],
   "source": [
    "# save model assets\n",
    "print(\"\\nModel assets saved to:\", modeldir)\n",
    "model.save(modeldir)\n",
    "\n",
    "# plot loss and accuracy\n",
    "m.plot_metrics(history=history,\n",
    "             spath=modeldir,\n",
    "             model_id=model_id)\n",
    "\n",
    "y_train_model = model.predict(x_train,verbose=1,batch_size=batch_size)\n",
    "validation_y_model = model.predict(validation_x,verbose=1,batch_size=batch_size)\n",
    "\n",
    "# plot 1-to-1\n",
    "m.plot_1to1(y_train=y_train,\n",
    "          y_train_model=y_train_model,\n",
    "          validation_y=validation_y,\n",
    "          validation_y_model=validation_y_model,\n",
    "          spath=modeldir,\n",
    "          model_id=model_id)\n",
    "\n",
    "# plot residuals\n",
    "m.plot_resid(y_train=y_train,\n",
    "          y_train_model=y_train_model,\n",
    "          validation_y=validation_y,\n",
    "          validation_y_model=validation_y_model,\n",
    "          spath=modeldir,\n",
    "          model_id=model_id)"
   ]
  },
  {
   "cell_type": "code",
   "execution_count": null,
   "metadata": {},
   "outputs": [],
   "source": []
  }
 ],
 "metadata": {
  "kernelspec": {
   "display_name": "Python 3",
   "language": "python",
   "name": "python3"
  },
  "language_info": {
   "codemirror_mode": {
    "name": "ipython",
    "version": 3
   },
   "file_extension": ".py",
   "mimetype": "text/x-python",
   "name": "python",
   "nbconvert_exporter": "python",
   "pygments_lexer": "ipython3",
   "version": "3.8.5"
  }
 },
 "nbformat": 4,
 "nbformat_minor": 4
}
