{
 "cells": [
  {
   "cell_type": "code",
   "execution_count": 1,
   "metadata": {},
   "outputs": [],
   "source": [
    "import sys\n",
    "from os.path import expanduser\n",
    "home = expanduser(\"~\")\n",
    "\n",
    "sys.path.append(home+'/repos/ClusNet/code/modules/')\n",
    "\n",
    "from ClusNet import Cluster\n",
    "from ClusNet import model as m\n",
    "\n",
    "# matplotlib\n",
    "import matplotlib.pylab as plt\n",
    "import matplotlib as mpl\n",
    "from mpl_toolkits.axes_grid1.axes_divider import make_axes_locatable\n",
    "\n",
    "# statistics\n",
    "import numpy as np\n",
    "from scipy import signal\n",
    "\n",
    "# object support\n",
    "import copy\n",
    "\n",
    "# time keeping\n",
    "import time\n",
    "from datetime import timedelta\n",
    "\n",
    "# data munging\n",
    "import random, string\n",
    "import pandas as pd\n",
    "\n",
    "# operating system\n",
    "import os\n",
    "import glob\n",
    "# tensorflow\n",
    "from tensorflow.keras.optimizers import Adam\n",
    "import tensorflow as tf\n",
    "from tensorflow import keras\n",
    "from tensorflow.keras import layers\n",
    "\n",
    "# keras support\n",
    "from keras.models import model_from_yaml\n",
    "import keras\n",
    "import glob as glob\n",
    "from os.path import expanduser\n",
    "home = expanduser(\"~\")\n",
    "\n",
    "import numpy as np\n",
    "import random"
   ]
  },
  {
   "cell_type": "code",
   "execution_count": 2,
   "metadata": {},
   "outputs": [
    {
     "name": "stdout",
     "output_type": "stream",
     "text": [
      "Loading 1874 clusters...\n",
      "1874/2343 clusters being used.\n",
      "Multiplicity factor: 3\n",
      " |█████████████████████████████-| 99.9% \n",
      "\n",
      "-Adding 5622 negatives...\n",
      " |█████████████████████████████-| 100.0% \n",
      "Done.\n",
      "\n",
      "Training image shape: (8995, 384, 384, 1)\n",
      "Training labels shape: (8995, 1)\n",
      "y_train [0s:8995 1s: 8995]\n",
      "\n",
      "Validation image shape: (2249, 384, 384, 1)\n",
      "Validation labels shape: (2249, 1)\n",
      "y_validation [0s:2249 1s: 2249]\n",
      "Saving training data\n",
      "\n",
      "Model directory created --> /Users/erebor/repos/ClusNet/models/category/GhSiO\n",
      "\n",
      "Saved dataset paths to --> /Users/erebor/repos/ClusNet/models/category/GhSiO\n"
     ]
    }
   ],
   "source": [
    "# load data set\n",
    "training_data, validation_data, _ = Cluster.load_dataset(k=0.80)\n",
    "\n",
    "x_train, y_train = training_data\n",
    "validation_x, validation_y = validation_data"
   ]
  },
  {
   "cell_type": "code",
   "execution_count": null,
   "metadata": {},
   "outputs": [],
   "source": [
    "int((468*3*2*0.80))"
   ]
  },
  {
   "cell_type": "code",
   "execution_count": null,
   "metadata": {},
   "outputs": [],
   "source": [
    "print(x_train.shape[0])"
   ]
  },
  {
   "cell_type": "code",
   "execution_count": null,
   "metadata": {},
   "outputs": [],
   "source": [
    "Cluster.plot(clusfpaths=clusfpaths,size=5)"
   ]
  },
  {
   "cell_type": "code",
   "execution_count": null,
   "metadata": {},
   "outputs": [],
   "source": [
    "# load data set\n",
    "x_train, y_train = Cluster.load_dataset(k='all')\n",
    "\n",
    "# split data set into validation and training\n",
    "# 80% training, 20% validation\n",
    "validation_split = 0.2\n",
    "split_at = int(x_train.shape[0] * (1-validation_split))\n",
    "validation_x = x_train[split_at:]\n",
    "validation_y = y_train[split_at:]\n",
    "validation_data = (validation_x, validation_y)"
   ]
  },
  {
   "cell_type": "code",
   "execution_count": null,
   "metadata": {},
   "outputs": [],
   "source": [
    "# load model trained on Blue Crabs\n",
    "model_path = home+'/repos/ClusNet/models/category/bQblI'\n",
    "new_model = keras.models.load_model(model_path)"
   ]
  },
  {
   "cell_type": "code",
   "execution_count": null,
   "metadata": {},
   "outputs": [],
   "source": [
    "# predict validation and training labels\n",
    "y_train_model = new_model.predict(x_train,verbose=1)    \n",
    "validation_y_model = new_model.predict(validation_x,verbose=1)"
   ]
  },
  {
   "cell_type": "raw",
   "metadata": {},
   "source": [
    "# plot results\n",
    "fig, ax = plt.subplots(nrows=1,ncols=1,figsize=(5,5),sharey=False,sharex=False)\n",
    "for y, y_model, label in zip([y_train,validation_y],\n",
    "                             [y_train_model,validation_y_model],\n",
    "                             ['Training data','Validation data']):\n",
    "    ax.hist(validation_y_model,label=label,bins=10)\n",
    "\n",
    "ax.set_xlabel('Cluster Boolean Label')\n",
    "\n",
    "plt.legend(frameon=False)\n",
    "plt.xticks([0,1])\n",
    "plt.tight_layout()\n",
    "plt.show()"
   ]
  },
  {
   "cell_type": "code",
   "execution_count": null,
   "metadata": {},
   "outputs": [],
   "source": [
    "for val in y_train_model:\n",
    "    print(val)"
   ]
  },
  {
   "cell_type": "code",
   "execution_count": null,
   "metadata": {},
   "outputs": [],
   "source": [
    "for val in validation_y_model:\n",
    "    print(val)"
   ]
  },
  {
   "cell_type": "code",
   "execution_count": null,
   "metadata": {},
   "outputs": [],
   "source": []
  }
 ],
 "metadata": {
  "kernelspec": {
   "display_name": "Python 3",
   "language": "python",
   "name": "python3"
  },
  "language_info": {
   "codemirror_mode": {
    "name": "ipython",
    "version": 3
   },
   "file_extension": ".py",
   "mimetype": "text/x-python",
   "name": "python",
   "nbconvert_exporter": "python",
   "pygments_lexer": "ipython3",
   "version": "3.8.5"
  }
 },
 "nbformat": 4,
 "nbformat_minor": 4
}
