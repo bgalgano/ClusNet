{
 "cells": [
  {
   "cell_type": "code",
   "execution_count": 2,
   "metadata": {},
   "outputs": [],
   "source": [
    "# matplotlib\n",
    "import matplotlib.pylab as plt\n",
    "import matplotlib as mpl\n",
    "from mpl_toolkits.axes_grid1.axes_divider import make_axes_locatable\n",
    "\n",
    "# statistics\n",
    "import numpy as np\n",
    "from scipy import signal\n",
    "\n",
    "# object support\n",
    "import copy\n",
    "\n",
    "# time keeping\n",
    "import time\n",
    "from datetime import timedelta\n",
    "\n",
    "# data munging\n",
    "import random, string\n",
    "import pandas as pd\n",
    "\n",
    "# operating system\n",
    "import os\n",
    "import glob\n",
    "# tensorflow\n",
    "from tensorflow.keras.optimizers import Adam\n",
    "import tensorflow as tf\n",
    "from tensorflow import keras\n",
    "from tensorflow.keras import layers\n",
    "\n",
    "# keras support\n",
    "from keras.models import model_from_yaml\n"
   ]
  },
  {
   "cell_type": "code",
   "execution_count": null,
   "metadata": {},
   "outputs": [
    {
     "name": "stdout",
     "output_type": "stream",
     "text": [
      "\n",
      "Dataset loaded.\n",
      "Image input shape: (3000, 128, 128, 1)\n",
      "Label input shape: (3000, 3)\n",
      "\n",
      "MODEL:\n",
      "Model: \"sequential_1\"\n",
      "_________________________________________________________________\n",
      "Layer (type)                 Output Shape              Param #   \n",
      "=================================================================\n",
      "conv2d_3 (Conv2D)            (None, 128, 128, 16)      592       \n",
      "_________________________________________________________________\n",
      "max_pooling2d_3 (MaxPooling2 (None, 64, 64, 16)        0         \n",
      "_________________________________________________________________\n",
      "conv2d_4 (Conv2D)            (None, 64, 64, 32)        18464     \n",
      "_________________________________________________________________\n",
      "max_pooling2d_4 (MaxPooling2 (None, 32, 32, 32)        0         \n",
      "_________________________________________________________________\n",
      "conv2d_5 (Conv2D)            (None, 32, 32, 64)        73792     \n",
      "_________________________________________________________________\n",
      "max_pooling2d_5 (MaxPooling2 (None, 16, 16, 64)        0         \n",
      "_________________________________________________________________\n",
      "global_average_pooling2d_1 ( (None, 64)                0         \n",
      "_________________________________________________________________\n",
      "dropout_2 (Dropout)          (None, 64)                0         \n",
      "_________________________________________________________________\n",
      "dense_4 (Dense)              (None, 200)               13000     \n",
      "_________________________________________________________________\n",
      "dropout_3 (Dropout)          (None, 200)               0         \n",
      "_________________________________________________________________\n",
      "dense_5 (Dense)              (None, 100)               20100     \n",
      "_________________________________________________________________\n",
      "dense_6 (Dense)              (None, 20)                2020      \n",
      "_________________________________________________________________\n",
      "dense_7 (Dense)              (None, 3)                 63        \n",
      "=================================================================\n",
      "Total params: 128,031\n",
      "Trainable params: 128,031\n",
      "Non-trainable params: 0\n",
      "_________________________________________________________________\n",
      "\n",
      "Dataset loaded.\n",
      "Image input shape: (3000, 128, 128, 1)\n",
      "Label input shape: (3000, 3)\n",
      "\n",
      "***LEARNING START***\n",
      "Epoch 1/2\n"
     ]
    }
   ],
   "source": [
    "from GPU_import import Gaussian as g\n",
    "g.main()"
   ]
  },
  {
   "cell_type": "code",
   "execution_count": null,
   "metadata": {},
   "outputs": [],
   "source": [
    "dirnames = glob.glob('models/*')\n",
    "dirname = dirnames[2]\n",
    "\n",
    "fpaths = glob.glob(dirname + '/*')\n",
    "\n",
    "h5_fpath = [fpath for fpath in fpaths if fpath.endswith('.h5')][0]\n",
    "yaml_fpath =  [fpath for fpath in fpaths if fpath.endswith('.yaml')][0]"
   ]
  },
  {
   "cell_type": "code",
   "execution_count": null,
   "metadata": {},
   "outputs": [],
   "source": []
  },
  {
   "cell_type": "code",
   "execution_count": null,
   "metadata": {},
   "outputs": [],
   "source": []
  }
 ],
 "metadata": {
  "kernelspec": {
   "display_name": "Python 3",
   "language": "python",
   "name": "python3"
  },
  "language_info": {
   "codemirror_mode": {
    "name": "ipython",
    "version": 3
   },
   "file_extension": ".py",
   "mimetype": "text/x-python",
   "name": "python",
   "nbconvert_exporter": "python",
   "pygments_lexer": "ipython3",
   "version": "3.8.5"
  }
 },
 "nbformat": 4,
 "nbformat_minor": 4
}
