{
 "cells": [
  {
   "cell_type": "code",
   "execution_count": 1,
   "metadata": {},
   "outputs": [],
   "source": [
    "# matplotlib\n",
    "import matplotlib.pylab as plt\n",
    "import matplotlib as mpl\n",
    "from mpl_toolkits.axes_grid1.axes_divider import make_axes_locatable\n",
    "\n",
    "# statistics\n",
    "import numpy as np\n",
    "from scipy import signal\n",
    "\n",
    "# object support\n",
    "import copy\n",
    "\n",
    "# time keeping\n",
    "import time\n",
    "from datetime import timedelta\n",
    "\n",
    "# data munging\n",
    "import random, string\n",
    "import pandas as pd\n",
    "\n",
    "# operating system\n",
    "import os\n",
    "import glob\n",
    "# tensorflow\n",
    "from tensorflow.keras.optimizers import Adam\n",
    "import tensorflow as tf\n",
    "from tensorflow import keras\n",
    "from tensorflow.keras import layers\n",
    "\n",
    "# keras support\n",
    "from keras.models import model_from_yaml\n"
   ]
  },
  {
   "cell_type": "code",
   "execution_count": 2,
   "metadata": {},
   "outputs": [
    {
     "name": "stdout",
     "output_type": "stream",
     "text": [
      "\n",
      "Dataset loaded.\n",
      "Image input shape: (300, 128, 128, 1)\n",
      "Label input shape: (300, 3)\n",
      "\n",
      "MODEL:\n",
      "Model: \"sequential\"\n",
      "_________________________________________________________________\n",
      "Layer (type)                 Output Shape              Param #   \n",
      "=================================================================\n",
      "conv2d (Conv2D)              (None, 128, 128, 16)      160       \n",
      "_________________________________________________________________\n",
      "max_pooling2d (MaxPooling2D) (None, 64, 64, 16)        0         \n",
      "_________________________________________________________________\n",
      "conv2d_1 (Conv2D)            (None, 64, 64, 32)        4640      \n",
      "_________________________________________________________________\n",
      "max_pooling2d_1 (MaxPooling2 (None, 32, 32, 32)        0         \n",
      "_________________________________________________________________\n",
      "conv2d_2 (Conv2D)            (None, 32, 32, 64)        18496     \n",
      "_________________________________________________________________\n",
      "max_pooling2d_2 (MaxPooling2 (None, 16, 16, 64)        0         \n",
      "_________________________________________________________________\n",
      "global_average_pooling2d (Gl (None, 64)                0         \n",
      "_________________________________________________________________\n",
      "dropout (Dropout)            (None, 64)                0         \n",
      "_________________________________________________________________\n",
      "dense (Dense)                (None, 200)               13000     \n",
      "_________________________________________________________________\n",
      "dropout_1 (Dropout)          (None, 200)               0         \n",
      "_________________________________________________________________\n",
      "dense_1 (Dense)              (None, 100)               20100     \n",
      "_________________________________________________________________\n",
      "dense_2 (Dense)              (None, 20)                2020      \n",
      "_________________________________________________________________\n",
      "dense_3 (Dense)              (None, 3)                 63        \n",
      "=================================================================\n",
      "Total params: 58,479\n",
      "Trainable params: 58,479\n",
      "Non-trainable params: 0\n",
      "_________________________________________________________________\n",
      "\n",
      "Dataset loaded.\n",
      "Image input shape: (300, 128, 128, 1)\n",
      "Label input shape: (300, 3)\n",
      "\n",
      "***LEARNING START***\n",
      "Epoch 1/2\n",
      "1/1 - 5s - loss: 0.3180 - accuracy: 0.2250 - val_loss: 0.2273 - val_accuracy: 0.4833\n",
      "Epoch 2/2\n",
      "1/1 - 2s - loss: 0.2150 - accuracy: 0.5375 - val_loss: 0.1831 - val_accuracy: 0.4833\n",
      "***LEARNING END***\n",
      "\n",
      "TIME: 0:00:06.901094\n",
      "Model assets saved to: /Users/mcp/repos/neural/CNNs/center_pix/models/XZ9bk\n",
      "\n",
      "---> metrics plot saved to /Users/mcp/repos/neural/CNNs/center_pix/models/XZ9bk\n",
      "\n",
      "Predicting training labels:\n",
      "10/10 [==============================] - 1s 67ms/step\n",
      "2/2 [==============================] - 0s 58ms/step\n",
      "\n",
      "---> 1to1 plot saved to: /Users/mcp/repos/neural/CNNs/center_pix/models/XZ9bk\n",
      "\n"
     ]
    },
    {
     "data": {
      "image/png": "[encoded data removed]",
      "text/plain": [
       "<Figure size 432x360 with 2 Axes>"
      ]
     },
     "metadata": {
      "needs_background": "light"
     },
     "output_type": "display_data"
    }
   ],
   "source": [
    "from GPU_import import Gaussian as g\n",
    "g.main()"
   ]
  },
  {
   "cell_type": "code",
   "execution_count": 3,
   "metadata": {},
   "outputs": [],
   "source": [
    "dirnames = glob.glob('models/*')\n",
    "dirname = dirnames[2]\n",
    "\n",
    "fpaths = glob.glob(dirname + '/*')\n",
    "\n",
    "h5_fpath = [fpath for fpath in fpaths if fpath.endswith('.h5')][0]\n",
    "yaml_fpath =  [fpath for fpath in fpaths if fpath.endswith('.yaml')][0]"
   ]
  },
  {
   "cell_type": "code",
   "execution_count": null,
   "metadata": {},
   "outputs": [],
   "source": []
  },
  {
   "cell_type": "code",
   "execution_count": null,
   "metadata": {},
   "outputs": [],
   "source": []
  }
 ],
 "metadata": {
  "kernelspec": {
   "display_name": "Python 3",
   "language": "python",
   "name": "python3"
  },
  "language_info": {
   "codemirror_mode": {
    "name": "ipython",
    "version": 3
   },
   "file_extension": ".py",
   "mimetype": "text/x-python",
   "name": "python",
   "nbconvert_exporter": "python",
   "pygments_lexer": "ipython3",
   "version": "3.8.5"
  }
 },
 "nbformat": 4,
 "nbformat_minor": 4
}
