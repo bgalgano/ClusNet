{
 "cells": [
  {
   "cell_type": "code",
   "execution_count": 36,
   "metadata": {
    "execution": {
     "iopub.execute_input": "2021-01-27T04:16:02.962331Z",
     "iopub.status.busy": "2021-01-27T04:16:02.962069Z",
     "iopub.status.idle": "2021-01-27T04:16:02.968940Z",
     "shell.execute_reply": "2021-01-27T04:16:02.968015Z",
     "shell.execute_reply.started": "2021-01-27T04:16:02.962303Z"
    }
   },
   "outputs": [],
   "source": [
    "import numpy as np\n",
    "import matplotlib.pylab as plt\n",
    "import pandas as pd\n",
    "import matplotlib as mpl\n",
    "\n",
    "from astropy.table import Table\n",
    "from mpl_toolkits.axes_grid1 import make_axes_locatable\n",
    "\n",
    "label_size = 14\n",
    "\n",
    "mpl.rcParams['legend.fontsize'] = label_size\n",
    "mpl.rcParams['axes.labelsize'] = label_size \n",
    "\n",
    "mpl.rcParams['xtick.labelsize'] = label_size\n",
    "mpl.rcParams['ytick.labelsize'] = label_size\n",
    "\n",
    "mpl.rcParams['axes.labelpad'] = 10"
   ]
  },
  {
   "cell_type": "code",
   "execution_count": 121,
   "metadata": {
    "execution": {
     "iopub.execute_input": "2021-01-28T04:34:58.714240Z",
     "iopub.status.busy": "2021-01-28T04:34:58.713977Z",
     "iopub.status.idle": "2021-01-28T04:34:58.722652Z",
     "shell.execute_reply": "2021-01-28T04:34:58.721895Z",
     "shell.execute_reply.started": "2021-01-28T04:34:58.714211Z"
    }
   },
   "outputs": [
    {
     "name": "stdout",
     "output_type": "stream",
     "text": [
      "[0.         0.00268229 0.00536458 0.00804688 0.01072917 0.01341146\n",
      " 0.01609375 0.01877604 0.02145833 0.02414062 0.02682292 0.02950521\n",
      " 0.0321875  0.03486979 0.03755208 0.04023437 0.04291667 0.04559896\n",
      " 0.04828125 0.05096354 0.05364583 0.05632812 0.05901042 0.06169271\n",
      " 0.064375   0.06705729 0.06973958 0.07242187 0.07510417 0.07778646\n",
      " 0.08046875 0.08315104 0.08583333 0.08851563 0.09119792 0.09388021\n",
      " 0.0965625  0.09924479 0.10192708 0.10460937 0.10729167 0.10997396\n",
      " 0.11265625 0.11533854 0.11802083 0.12070312 0.12338542 0.12606771\n",
      " 0.12875    0.13143229 0.13411458 0.13679687 0.13947917 0.14216146\n",
      " 0.14484375 0.14752604 0.15020833 0.15289063 0.15557292 0.15825521\n",
      " 0.1609375  0.16361979 0.16630208 0.16898437 0.17166667 0.17434896\n",
      " 0.17703125 0.17971354 0.18239583 0.18507812 0.18776042 0.19044271\n",
      " 0.193125   0.19580729 0.19848958 0.20117188 0.20385417 0.20653646\n",
      " 0.20921875 0.21190104 0.21458333 0.21726562 0.21994792 0.22263021\n",
      " 0.2253125  0.22799479 0.23067708 0.23335937 0.23604167 0.23872396\n",
      " 0.24140625 0.24408854 0.24677083 0.24945312 0.25213542 0.25481771\n",
      " 0.2575     0.26018229 0.26286458 0.26554688 0.26822917 0.27091146\n",
      " 0.27359375 0.27627604 0.27895833 0.28164062 0.28432292 0.28700521\n",
      " 0.2896875  0.29236979 0.29505208 0.29773437 0.30041667 0.30309896\n",
      " 0.30578125 0.30846354 0.31114583 0.31382813 0.31651042 0.31919271\n",
      " 0.321875   0.32455729 0.32723958 0.32992187 0.33260417 0.33528646\n",
      " 0.33796875 0.34065104 0.34333333 0.34601562 0.34869792 0.35138021\n",
      " 0.3540625  0.35674479 0.35942708 0.36210938 0.36479167 0.36747396\n",
      " 0.37015625 0.37283854 0.37552083 0.37820312 0.38088542 0.38356771\n",
      " 0.38625    0.38893229 0.39161458 0.39429687 0.39697917 0.39966146\n",
      " 0.40234375 0.40502604 0.40770833 0.41039063 0.41307292 0.41575521\n",
      " 0.4184375  0.42111979 0.42380208 0.42648437 0.42916667 0.43184896\n",
      " 0.43453125 0.43721354 0.43989583 0.44257812 0.44526042 0.44794271\n",
      " 0.450625   0.45330729 0.45598958 0.45867188 0.46135417 0.46403646\n",
      " 0.46671875 0.46940104 0.47208333 0.47476562 0.47744792 0.48013021\n",
      " 0.4828125  0.48549479 0.48817708 0.49085937 0.49354167 0.49622396\n",
      " 0.49890625 0.50158854 0.50427083 0.50695313 0.50963542 0.51231771\n",
      " 0.515      0.51768229 0.52036458 0.52304688 0.52572917 0.52841146\n",
      " 0.53109375 0.53377604 0.53645833 0.53914063 0.54182292 0.54450521\n",
      " 0.5471875  0.54986979 0.55255208 0.55523437 0.55791667 0.56059896\n",
      " 0.56328125 0.56596354 0.56864583 0.57132812 0.57401042 0.57669271\n",
      " 0.579375   0.58205729 0.58473958 0.58742187 0.59010417 0.59278646\n",
      " 0.59546875 0.59815104 0.60083333 0.60351562 0.60619792 0.60888021\n",
      " 0.6115625  0.61424479 0.61692708 0.61960938 0.62229167 0.62497396\n",
      " 0.62765625 0.63033854 0.63302083 0.63570313 0.63838542 0.64106771\n",
      " 0.64375    0.64643229 0.64911458 0.65179687 0.65447917 0.65716146\n",
      " 0.65984375 0.66252604 0.66520833 0.66789062 0.67057292 0.67325521\n",
      " 0.6759375  0.67861979 0.68130208 0.68398437 0.68666667 0.68934896\n",
      " 0.69203125 0.69471354 0.69739583 0.70007812 0.70276042 0.70544271\n",
      " 0.708125   0.71080729 0.71348958 0.71617188 0.71885417 0.72153646\n",
      " 0.72421875 0.72690104 0.72958333 0.73226563 0.73494792 0.73763021\n",
      " 0.7403125  0.74299479 0.74567708 0.74835937 0.75104167 0.75372396\n",
      " 0.75640625 0.75908854 0.76177083 0.76445312 0.76713542 0.76981771\n",
      " 0.7725     0.77518229 0.77786458 0.78054687 0.78322917 0.78591146\n",
      " 0.78859375 0.79127604 0.79395833 0.79664062 0.79932292 0.80200521\n",
      " 0.8046875  0.80736979 0.81005208 0.81273438 0.81541667 0.81809896\n",
      " 0.82078125 0.82346354 0.82614583 0.82882813 0.83151042 0.83419271\n",
      " 0.836875   0.83955729 0.84223958 0.84492187 0.84760417 0.85028646\n",
      " 0.85296875 0.85565104 0.85833333 0.86101562 0.86369792 0.86638021\n",
      " 0.8690625  0.87174479 0.87442708 0.87710937 0.87979167 0.88247396\n",
      " 0.88515625 0.88783854 0.89052083 0.89320312 0.89588542 0.89856771\n",
      " 0.90125    0.90393229 0.90661458 0.90929688 0.91197917 0.91466146\n",
      " 0.91734375 0.92002604 0.92270833 0.92539063 0.92807292 0.93075521\n",
      " 0.9334375  0.93611979 0.93880208 0.94148437 0.94416667 0.94684896\n",
      " 0.94953125 0.95221354 0.95489583 0.95757812 0.96026042 0.96294271\n",
      " 0.965625   0.96830729 0.97098958 0.97367187 0.97635417 0.97903646\n",
      " 0.98171875 0.98440104 0.98708333 0.98976562 0.99244792 0.99513021\n",
      " 0.9978125  1.00049479 1.00317708 1.00585938 1.00854167 1.01122396\n",
      " 1.01390625 1.01658854 1.01927083 1.02195313 1.02463542 1.02731771]\n"
     ]
    }
   ],
   "source": [
    "FOV = 1.03 # degrees\n",
    "FOV_pix = 384 #pixels\n",
    "\n",
    "deg_per_pix = FOV/FOV_pix\n",
    "\n",
    "edges = np.arange(0,1.03,deg_per_pix)\n",
    "print(edges)"
   ]
  },
  {
   "cell_type": "code",
   "execution_count": 62,
   "metadata": {
    "execution": {
     "iopub.execute_input": "2021-01-27T04:25:42.591591Z",
     "iopub.status.busy": "2021-01-27T04:25:42.591333Z",
     "iopub.status.idle": "2021-01-27T04:25:42.608064Z",
     "shell.execute_reply": "2021-01-27T04:25:42.607300Z",
     "shell.execute_reply.started": "2021-01-27T04:25:42.591563Z"
    }
   },
   "outputs": [],
   "source": [
    "fname = \"8zi62d6va3dtil0t/phlist_xissim.fits\"\n",
    "mode = 'wrapped'\n",
    "\n",
    "dat = Table.read(fname, format='fits')\n",
    "df = dat.to_pandas()"
   ]
  },
  {
   "cell_type": "code",
   "execution_count": 67,
   "metadata": {
    "execution": {
     "iopub.execute_input": "2021-01-27T04:28:13.777169Z",
     "iopub.status.busy": "2021-01-27T04:28:13.776888Z",
     "iopub.status.idle": "2021-01-27T04:28:13.977494Z",
     "shell.execute_reply": "2021-01-27T04:28:13.976966Z",
     "shell.execute_reply.started": "2021-01-27T04:28:13.777140Z"
    }
   },
   "outputs": [
    {
     "data": {
      "image/png": "[encoded data removed]",
      "text/plain": [
       "<Figure size 432x288 with 1 Axes>"
      ]
     },
     "metadata": {
      "needs_background": "light"
     },
     "output_type": "display_data"
    }
   ],
   "source": [
    "plt.figure()\n",
    "plt.hist(df.RA,label='RA')\n",
    "plt.hist(df.DEC,label='DEC')\n",
    "plt.legend()\n",
    "plt.show()\n",
    "plt.close()"
   ]
  },
  {
   "cell_type": "code",
   "execution_count": 123,
   "metadata": {
    "execution": {
     "iopub.execute_input": "2021-01-28T04:38:41.782947Z",
     "iopub.status.busy": "2021-01-28T04:38:41.782619Z",
     "iopub.status.idle": "2021-01-28T04:38:42.061732Z",
     "shell.execute_reply": "2021-01-28T04:38:42.061141Z",
     "shell.execute_reply.started": "2021-01-28T04:38:41.782910Z"
    }
   },
   "outputs": [
    {
     "name": "stderr",
     "output_type": "stream",
     "text": [
      "<ipython-input-123-885137556964>:12: RuntimeWarning: divide by zero encountered in log10\n",
      "  im = plt.imshow(np.log10(hist), cmap=cmap)\n"
     ]
    },
    {
     "data": {
      "image/png": "[encoded data removed]",
      "text/plain": [
       "<Figure size 360x360 with 2 Axes>"
      ]
     },
     "metadata": {
      "needs_background": "light"
     },
     "output_type": "display_data"
    }
   ],
   "source": [
    "binWidth =binLength = deg_per_pix\n",
    "cmap = mpl.cm.viridis\n",
    "\n",
    "phi = df.RA * (np.pi/180)\n",
    "rho = np.abs(df.DEC-90) * (np.pi/180)\n",
    "x,y = rho * np.cos(phi), rho * np.sin(phi)\n",
    "\n",
    "\n",
    "plt.figure(figsize=(5,5))\n",
    "\n",
    "hist, xedges, yedges = np.histogram2d(x=x, y=y, bins=(74,74))\n",
    "im = plt.imshow(np.log10(hist), cmap=cmap)\n",
    "\n",
    "ax = plt.gca()\n",
    "divider = make_axes_locatable(ax)\n",
    "cax = divider.append_axes(\"right\", size=\"5%\", pad=0.15)\n",
    "plt.colorbar(im, cax=cax)\n",
    "\n",
    "ax.set_xlabel(\"x\"), ax.set_ylabel(\"y\")\n",
    "ax.set_facecolor('#DADADA')\n",
    "\n",
    "plt.tight_layout()\n",
    "plt.show()\n",
    "plt.close()"
   ]
  },
  {
   "cell_type": "code",
   "execution_count": 72,
   "metadata": {
    "execution": {
     "iopub.execute_input": "2021-01-28T04:01:32.703436Z",
     "iopub.status.busy": "2021-01-28T04:01:32.703112Z",
     "iopub.status.idle": "2021-01-28T04:01:32.750520Z",
     "shell.execute_reply": "2021-01-28T04:01:32.749018Z",
     "shell.execute_reply.started": "2021-01-28T04:01:32.703404Z"
    }
   },
   "outputs": [
    {
     "name": "stdout",
     "output_type": "stream",
     "text": [
      "Path at terminal when executing this file\n",
      "/Users/briannagalgano/repos/Galaxy CNN/cosmo_portal_excercise\n",
      "\n",
      "This file path, relative to os.getcwd()\n"
     ]
    },
    {
     "ename": "NameError",
     "evalue": "name '__file__' is not defined",
     "output_type": "error",
     "traceback": [
      "\u001b[0;31m---------------------------------------------------------------------------\u001b[0m",
      "\u001b[0;31mNameError\u001b[0m                                 Traceback (most recent call last)",
      "\u001b[0;32m<ipython-input-72-82350a51e92c>\u001b[0m in \u001b[0;36m<module>\u001b[0;34m\u001b[0m\n\u001b[1;32m      5\u001b[0m \u001b[0;34m\u001b[0m\u001b[0m\n\u001b[1;32m      6\u001b[0m \u001b[0mprint\u001b[0m\u001b[0;34m(\u001b[0m\u001b[0;34m\"This file path, relative to os.getcwd()\"\u001b[0m\u001b[0;34m)\u001b[0m\u001b[0;34m\u001b[0m\u001b[0;34m\u001b[0m\u001b[0m\n\u001b[0;32m----> 7\u001b[0;31m \u001b[0mprint\u001b[0m\u001b[0;34m(\u001b[0m\u001b[0m__file__\u001b[0m \u001b[0;34m+\u001b[0m \u001b[0;34m\"\\n\"\u001b[0m\u001b[0;34m)\u001b[0m\u001b[0;34m\u001b[0m\u001b[0;34m\u001b[0m\u001b[0m\n\u001b[0m\u001b[1;32m      8\u001b[0m \u001b[0;34m\u001b[0m\u001b[0m\n\u001b[1;32m      9\u001b[0m \u001b[0mprint\u001b[0m\u001b[0;34m(\u001b[0m\u001b[0;34m\"This file full path (following symlinks)\"\u001b[0m\u001b[0;34m)\u001b[0m\u001b[0;34m\u001b[0m\u001b[0;34m\u001b[0m\u001b[0m\n",
      "\u001b[0;31mNameError\u001b[0m: name '__file__' is not defined"
     ]
    }
   ],
   "source": [
    "import os\n",
    "\n",
    "print(\"Path at terminal when executing this file\")\n",
    "print(os.getcwd() + \"\\n\")\n",
    "\n",
    "print(\"This file path, relative to os.getcwd()\")\n",
    "print(__file__ + \"\\n\")\n",
    "\n",
    "print(\"This file full path (following symlinks)\")\n",
    "full_path = os.path.realpath(__file__)\n",
    "print(full_path + \"\\n\")\n",
    "\n",
    "print(\"This file directory and name\")\n",
    "path, filename = os.path.split(full_path)\n",
    "print(path + ' --> ' + filename + \"\\n\")\n",
    "\n",
    "print(\"This file directory only\")\n",
    "print(os.path.dirname(full_path))"
   ]
  },
  {
   "cell_type": "code",
   "execution_count": null,
   "metadata": {},
   "outputs": [],
   "source": []
  }
 ],
 "metadata": {
  "kernelspec": {
   "display_name": "Python 3",
   "language": "python",
   "name": "python3"
  },
  "language_info": {
   "codemirror_mode": {
    "name": "ipython",
    "version": 3
   },
   "file_extension": ".py",
   "mimetype": "text/x-python",
   "name": "python",
   "nbconvert_exporter": "python",
   "pygments_lexer": "ipython3",
   "version": "3.6.3"
  }
 },
 "nbformat": 4,
 "nbformat_minor": 4
}
