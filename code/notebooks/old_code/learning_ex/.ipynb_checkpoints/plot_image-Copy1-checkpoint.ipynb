{
 "cells": [
  {
   "cell_type": "code",
   "execution_count": 2,
   "metadata": {
    "execution": {
     "iopub.execute_input": "2021-01-27T03:59:50.326828Z",
     "iopub.status.busy": "2021-01-27T03:59:50.326476Z",
     "iopub.status.idle": "2021-01-27T03:59:55.838284Z",
     "shell.execute_reply": "2021-01-27T03:59:55.837152Z",
     "shell.execute_reply.started": "2021-01-27T03:59:50.326780Z"
    }
   },
   "outputs": [
    {
     "ename": "NameError",
     "evalue": "name 'df' is not defined",
     "output_type": "error",
     "traceback": [
      "\u001b[0;31m---------------------------------------------------------------------------\u001b[0m",
      "\u001b[0;31mNameError\u001b[0m                                 Traceback (most recent call last)",
      "\u001b[0;32m<ipython-input-2-61ffc0ab36e0>\u001b[0m in \u001b[0;36m<module>\u001b[0;34m\u001b[0m\n\u001b[1;32m     21\u001b[0m \u001b[0;34m\u001b[0m\u001b[0m\n\u001b[1;32m     22\u001b[0m \u001b[0;34m\u001b[0m\u001b[0m\n\u001b[0;32m---> 23\u001b[0;31m \u001b[0mcoords\u001b[0m \u001b[0;34m=\u001b[0m \u001b[0mSkyCoord\u001b[0m\u001b[0;34m(\u001b[0m\u001b[0mra\u001b[0m\u001b[0;34m=\u001b[0m\u001b[0mdf\u001b[0m\u001b[0;34m.\u001b[0m\u001b[0mRA\u001b[0m\u001b[0;34m*\u001b[0m\u001b[0mu\u001b[0m\u001b[0;34m.\u001b[0m\u001b[0mdeg\u001b[0m\u001b[0;34m,\u001b[0m\u001b[0mdec\u001b[0m\u001b[0;34m=\u001b[0m\u001b[0mdf\u001b[0m\u001b[0;34m.\u001b[0m\u001b[0mDEC\u001b[0m\u001b[0;34m*\u001b[0m\u001b[0mu\u001b[0m\u001b[0;34m.\u001b[0m\u001b[0mdeg\u001b[0m\u001b[0;34m)\u001b[0m\u001b[0;34m\u001b[0m\u001b[0;34m\u001b[0m\u001b[0m\n\u001b[0m\u001b[1;32m     24\u001b[0m \u001b[0;31m#print(\"Min photon energy\", min(df.PHOTON_ENERGY))\u001b[0m\u001b[0;34m\u001b[0m\u001b[0;34m\u001b[0m\u001b[0;34m\u001b[0m\u001b[0m\n\u001b[1;32m     25\u001b[0m \u001b[0;31m#print(\"Max photon energy\", max(df.PHOTON_ENERGY))\u001b[0m\u001b[0;34m\u001b[0m\u001b[0;34m\u001b[0m\u001b[0;34m\u001b[0m\u001b[0m\n",
      "\u001b[0;31mNameError\u001b[0m: name 'df' is not defined"
     ]
    }
   ],
   "source": [
    "import numpy as np\n",
    "import matplotlib.pylab as plt\n",
    "import pandas as pd\n",
    "import matplotlib as mpl\n",
    "\n",
    "from astropy import units as u\n",
    "from astropy.coordinates import SkyCoord\n",
    "from astropy.coordinates import SphericalRepresentation\n",
    "\n",
    "from astropy.table import Table\n",
    "\n",
    "label_size = 15\n",
    "\n",
    "mpl.rcParams['legend.fontsize'] = label_size - 7\n",
    "mpl.rcParams['axes.labelsize'] = label_size \n",
    "\n",
    "mpl.rcParams['xtick.labelsize'] = label_size - 5\n",
    "mpl.rcParams['ytick.labelsize'] = label_size - 5\n",
    "\n",
    "mpl.rcParams['axes.labelpad'] = 10\n",
    "\n",
    "\n",
    "coords = SkyCoord(ra=df.RA*u.deg,dec=df.DEC*u.deg)\n",
    "#print(\"Min photon energy\", min(df.PHOTON_ENERGY))\n",
    "#print(\"Max photon energy\", max(df.PHOTON_ENERGY))\n",
    "#print(\"Total photon energy\", np.sum(df.PHOTON_ENERGY))\n",
    "\n",
    "print(coords)"
   ]
  },
  {
   "cell_type": "code",
   "execution_count": null,
   "metadata": {
    "execution": {
     "iopub.status.busy": "2021-01-27T03:59:55.839500Z",
     "iopub.status.idle": "2021-01-27T03:59:55.840007Z"
    }
   },
   "outputs": [],
   "source": [
    "def plot_cluster(fname = \"8zi62d6va3dtil0t/phlist_xissim.fits\",mode='wrapped')\n",
    "\n",
    "    dat = Table.read(fname, format='fits')\n",
    "    df = dat.to_pandas()\n",
    "\n",
    "    if mode=='wrapped':\n",
    "        phi = df.RA * (np.pi/180)\n",
    "        rho = np.abs(df.DEC-90) * (np.pi/180)\n",
    "        x,y = rho * np.cos(phi), rho * np.sin(phi)\n",
    "\n",
    "        plt.figure(figsize=(8,8))\n",
    "        hist, xedges, yedges = np.histogram2d(x=x, y=y, bins=(100,100))\n",
    "        cbar = plt.imshow(np.log10(hist))\n",
    "        plt.colorbar(cbar)\n",
    "    else:\n",
    "        plt.figure(figsize=(4,4))\n",
    "        plt.hist2d(x=df.RA,\n",
    "                   y=df.DEC,\n",
    "                   weights=df.PHOTON_ENERGY,\n",
    "                   cmap = plt.cm.viridis,\n",
    "                   bins=100)\n",
    "    plt.xlabel(\"RA\"), plt.ylabel(\"DEC\")\n",
    "    plt.gca().invert_yaxis()\n",
    "    plt.tight_layout()\n",
    "    plt.show()\n",
    "    plt.close()\n",
    "    \n",
    "    return None\n",
    "\n"
   ]
  },
  {
   "cell_type": "code",
   "execution_count": 31,
   "metadata": {},
   "outputs": [
    {
     "data": {
      "image/png": "[encoded data removed]",
      "text/plain": [
       "<Figure size 432x360 with 2 Axes>"
      ]
     },
     "metadata": {
      "needs_background": "light"
     },
     "output_type": "display_data"
    }
   ],
   "source": [
    "plt.figure(figsize=(6,5))\n",
    "plt.hist2d(x=df.RA, \n",
    "           y=df.DEC,\n",
    "           weights=df.PHOTON_ENERGY,\n",
    "           cmap = plt.cm.viridis,\n",
    "           bins=100)\n",
    "plt.colorbar(label=\"\")\n",
    "plt.xlabel(\"RA\"), plt.ylabel(\"DEC\")\n",
    "plt.tight_layout()\n",
    "#plt.savefig(\"cluster_1.png\",dpi=200)\n",
    "plt.show()\n",
    "plt.close()"
   ]
  },
  {
   "cell_type": "markdown",
   "metadata": {},
   "source": [
    "Questions:\n",
    "- how to properly do 2D histogram with 3D data\n",
    "- why is there such a wide range of RAs and DECs if this is for a single cluster?\n",
    "- how to pick or know the right bin size to represent the actual pixel size of the image\n",
    "    - look at eRosita docs, number of pixels in field of view (FOV) and size of each pixel\n",
    "    - ADS literature search with eRosita and sort by high citations\n",
    "    - check if FOV bounded by RA/DEC in PHOX same as FOV for eRosita\n",
    "    - if FOV agrees, we can plot pixel size properly\n",
    "    \n",
    "Klaus PI. of magneticum"
   ]
  },
  {
   "cell_type": "markdown",
   "metadata": {},
   "source": [
    "To do:\n",
    "- things at 90 are at center=> put at 0, 0\n",
    "- ra will go from 0 to 360\n",
    "- recast to x-y units from a sphere surface or use astropy frame\n",
    "- plot in log in photon counts\n",
    "--------\n",
    "\n",
    "\n",
    "To do (proper binning)!\n",
    "- FOV is set so same sky area for each cluster grabbed from PHOX\n",
    "- FOV is a square, where the FOV measurement of one side of the square\n",
    "- Arcminutes to degrees to radians\n",
    "- unlikely to have photons at edge of image for smaller clusters"
   ]
  }
 ],
 "metadata": {
  "kernelspec": {
   "display_name": "Python 3",
   "language": "python",
   "name": "python3"
  },
  "language_info": {
   "codemirror_mode": {
    "name": "ipython",
    "version": 3
   },
   "file_extension": ".py",
   "mimetype": "text/x-python",
   "name": "python",
   "nbconvert_exporter": "python",
   "pygments_lexer": "ipython3",
   "version": "3.8.3"
  }
 },
 "nbformat": 4,
 "nbformat_minor": 4
}
