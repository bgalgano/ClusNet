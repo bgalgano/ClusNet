{
 "cells": [
  {
   "cell_type": "markdown",
   "metadata": {},
   "source": [
    "notebook goal: to test how to continue a previous Keras model (fit, save, load, fit(again))"
   ]
  },
  {
   "cell_type": "code",
   "execution_count": 1,
   "metadata": {},
   "outputs": [],
   "source": [
    "# matplotlib\n",
    "import matplotlib.pylab as plt\n",
    "import matplotlib as mpl\n",
    "from mpl_toolkits.axes_grid1.axes_divider import make_axes_locatable\n",
    "\n",
    "# statistics\n",
    "import numpy as np\n",
    "from scipy import signal\n",
    "\n",
    "# object support\n",
    "import copy\n",
    "\n",
    "# time keeping\n",
    "import time\n",
    "from datetime import timedelta\n",
    "\n",
    "# data munging\n",
    "import random, string\n",
    "import pandas as pd\n",
    "\n",
    "# operating system\n",
    "import os\n",
    "import glob\n",
    "# tensorflow\n",
    "from tensorflow.keras.optimizers import Adam\n",
    "import tensorflow as tf\n",
    "from tensorflow import keras\n",
    "from tensorflow.keras import layers\n",
    "\n",
    "# keras support\n",
    "from keras.models import model_from_yaml\n",
    "\n",
    "import glob as glob"
   ]
  },
  {
   "cell_type": "code",
   "execution_count": 2,
   "metadata": {},
   "outputs": [],
   "source": [
    "from GPU_import.Gaussian import *\n"
   ]
  },
  {
   "cell_type": "code",
   "execution_count": 3,
   "metadata": {},
   "outputs": [
    {
     "name": "stdout",
     "output_type": "stream",
     "text": [
      "\n",
      "Dataset loaded.\n",
      "Image input shape: (300, 128, 128, 1)\n",
      "Label input shape: (300, 3)\n",
      "\n",
      "MODEL:\n",
      "Model: \"sequential\"\n",
      "_________________________________________________________________\n",
      "Layer (type)                 Output Shape              Param #   \n",
      "=================================================================\n",
      "conv2d (Conv2D)              (None, 128, 128, 16)      160       \n",
      "_________________________________________________________________\n",
      "max_pooling2d (MaxPooling2D) (None, 64, 64, 16)        0         \n",
      "_________________________________________________________________\n",
      "conv2d_1 (Conv2D)            (None, 64, 64, 32)        4640      \n",
      "_________________________________________________________________\n",
      "max_pooling2d_1 (MaxPooling2 (None, 32, 32, 32)        0         \n",
      "_________________________________________________________________\n",
      "conv2d_2 (Conv2D)            (None, 32, 32, 64)        18496     \n",
      "_________________________________________________________________\n",
      "max_pooling2d_2 (MaxPooling2 (None, 16, 16, 64)        0         \n",
      "_________________________________________________________________\n",
      "global_average_pooling2d (Gl (None, 64)                0         \n",
      "_________________________________________________________________\n",
      "dropout (Dropout)            (None, 64)                0         \n",
      "_________________________________________________________________\n",
      "dense (Dense)                (None, 200)               13000     \n",
      "_________________________________________________________________\n",
      "dropout_1 (Dropout)          (None, 200)               0         \n",
      "_________________________________________________________________\n",
      "dense_1 (Dense)              (None, 100)               20100     \n",
      "_________________________________________________________________\n",
      "dense_2 (Dense)              (None, 20)                2020      \n",
      "_________________________________________________________________\n",
      "dense_3 (Dense)              (None, 3)                 63        \n",
      "=================================================================\n",
      "Total params: 58,479\n",
      "Trainable params: 58,479\n",
      "Non-trainable params: 0\n",
      "_________________________________________________________________\n",
      "\n",
      "Dataset loaded.\n",
      "Image input shape: (300, 128, 128, 1)\n",
      "Label input shape: (300, 3)\n",
      "\n",
      "***LEARNING START***\n",
      "Epoch 1/20\n",
      "1/1 - 2s - loss: 0.3707 - accuracy: 0.0000e+00 - val_loss: 0.2041 - val_accuracy: 0.5333\n",
      "Epoch 2/20\n",
      "1/1 - 1s - loss: 0.2141 - accuracy: 0.4958 - val_loss: 0.1323 - val_accuracy: 0.5333\n",
      "Epoch 3/20\n",
      "1/1 - 1s - loss: 0.1453 - accuracy: 0.5250 - val_loss: 0.1785 - val_accuracy: 0.5333\n",
      "Epoch 4/20\n",
      "1/1 - 1s - loss: 0.1924 - accuracy: 0.5167 - val_loss: 0.1772 - val_accuracy: 0.5333\n",
      "Epoch 5/20\n",
      "1/1 - 1s - loss: 0.1849 - accuracy: 0.5083 - val_loss: 0.1494 - val_accuracy: 0.5167\n",
      "Epoch 6/20\n",
      "1/1 - 1s - loss: 0.1544 - accuracy: 0.5250 - val_loss: 0.1331 - val_accuracy: 0.4667\n",
      "Epoch 7/20\n",
      "1/1 - 1s - loss: 0.1437 - accuracy: 0.4750 - val_loss: 0.1335 - val_accuracy: 0.4667\n",
      "Epoch 8/20\n",
      "1/1 - 1s - loss: 0.1470 - accuracy: 0.5083 - val_loss: 0.1397 - val_accuracy: 0.4667\n",
      "Epoch 9/20\n",
      "1/1 - 1s - loss: 0.1552 - accuracy: 0.4750 - val_loss: 0.1445 - val_accuracy: 0.4667\n",
      "Epoch 10/20\n",
      "1/1 - 1s - loss: 0.1557 - accuracy: 0.4833 - val_loss: 0.1463 - val_accuracy: 0.4667\n",
      "Epoch 11/20\n",
      "1/1 - 1s - loss: 0.1571 - accuracy: 0.4958 - val_loss: 0.1436 - val_accuracy: 0.4667\n",
      "Epoch 12/20\n",
      "1/1 - 1s - loss: 0.1541 - accuracy: 0.5000 - val_loss: 0.1386 - val_accuracy: 0.4667\n",
      "Epoch 13/20\n",
      "1/1 - 1s - loss: 0.1507 - accuracy: 0.5083 - val_loss: 0.1340 - val_accuracy: 0.4667\n",
      "Epoch 14/20\n",
      "1/1 - 1s - loss: 0.1432 - accuracy: 0.4917 - val_loss: 0.1319 - val_accuracy: 0.4667\n",
      "Epoch 15/20\n",
      "1/1 - 1s - loss: 0.1400 - accuracy: 0.5458 - val_loss: 0.1327 - val_accuracy: 0.4667\n",
      "Epoch 16/20\n",
      "1/1 - 1s - loss: 0.1378 - accuracy: 0.4667 - val_loss: 0.1354 - val_accuracy: 0.4667\n",
      "Epoch 17/20\n",
      "1/1 - 1s - loss: 0.1410 - accuracy: 0.4625 - val_loss: 0.1387 - val_accuracy: 0.5333\n",
      "Epoch 18/20\n",
      "1/1 - 1s - loss: 0.1430 - accuracy: 0.4250 - val_loss: 0.1402 - val_accuracy: 0.5333\n",
      "Epoch 19/20\n",
      "1/1 - 1s - loss: 0.1454 - accuracy: 0.4833 - val_loss: 0.1400 - val_accuracy: 0.5333\n",
      "Epoch 20/20\n",
      "1/1 - 1s - loss: 0.1445 - accuracy: 0.5708 - val_loss: 0.1381 - val_accuracy: 0.5333\n",
      "***LEARNING END***\n",
      "\n",
      "TIME: 0:00:14.093943\n",
      "--->Model saved to: /Users/erebor/repos/ClusNet/CNNs/center_pix/models/Yf8vl\n",
      "INFO:tensorflow:Assets written to: /Users/erebor/repos/ClusNet/CNNs/center_pix/models/Yf8vl/assets\n",
      "\n",
      "---> metrics plot saved to /Users/erebor/repos/ClusNet/CNNs/center_pix/models/Yf8vl\n",
      "\n",
      "Predicting training labels:\n",
      "10/10 [==============================] - 0s 21ms/step\n",
      "2/2 [==============================] - 0s 22ms/step\n",
      "\n",
      "---> 1to1 plot saved to: /Users/erebor/repos/ClusNet/CNNs/center_pix/models/Yf8vl\n"
     ]
    },
    {
     "data": {
      "image/png": "[encoded data removed]",
      "text/plain": [
       "<Figure size 504x360 with 2 Axes>"
      ]
     },
     "metadata": {
      "needs_background": "light"
     },
     "output_type": "display_data"
    }
   ],
   "source": [
    "# plot settings\n",
    "label_size = 14\n",
    "mpl.rcParams['legend.fontsize'] = label_size\n",
    "mpl.rcParams['axes.labelsize'] = label_size \n",
    "mpl.rcParams['axes.labelpad'] = 10\n",
    "mpl.rcParams['xtick.labelsize'] = label_size\n",
    "mpl.rcParams['ytick.labelsize'] = label_size\n",
    "\n",
    "# print settings\n",
    "np.set_printoptions(precision=3, suppress=True)\n",
    "\n",
    "cwd = os.getcwd()\n",
    "spath = cwd + '/models'\n",
    "\n",
    "im_size = 128\n",
    "set_size = 100\n",
    "\n",
    "# create gaussian dataset\n",
    "dataset = create_set(im_size=im_size,set_size=set_size)\n",
    "\n",
    "# create training set preview figure\n",
    "# plot(dataset=dataset, spath=spath)\n",
    "\n",
    "x_train, y_train = load_dataset(dataset)\n",
    "\n",
    "input_shape = (im_size,im_size,1) # width, height, channel number\n",
    "pool_size = (2,2)\n",
    "kernel_size = (3,3)\n",
    "activation = 'relu'\n",
    "strides = 2\n",
    "\n",
    "print(\"\\nMODEL:\")\n",
    "model = generate_model(kernel_size=kernel_size,\n",
    "                         pool_size=pool_size,\n",
    "                         activation='relu',\n",
    "                         strides=2, \n",
    "                         input_shape=input_shape)\n",
    "\n",
    "# compiler\n",
    "opt = Adam()\n",
    "loss = tf.keras.losses.MeanAbsoluteError()\n",
    "metrics = [\"accuracy\"]\n",
    "epochs = 20\n",
    "\n",
    "model.compile(optimizer=opt,\n",
    "              loss=loss, \n",
    "              metrics=metrics)\n",
    "\n",
    "# model fitting\n",
    "validation_split = 0.2\n",
    "x_train, y_train = load_dataset(dataset)\n",
    "batch_size = len(dataset)\n",
    "\n",
    "split_at = int(x_train.shape[0] * (1-validation_split))\n",
    "validation_x = x_train[split_at:]\n",
    "validation_y = y_train[split_at:]\n",
    "validation_data=(validation_x, validation_y)\n",
    "print(\"\\n***LEARNING START***\")\n",
    "start = time.time()\n",
    "history = model.fit(x=x_train[:split_at],\n",
    "                    y=y_train[:split_at], \n",
    "                    epochs=epochs, \n",
    "                    batch_size=batch_size,\n",
    "                    validation_data=(validation_x, validation_y),\n",
    "                    verbose=2)\n",
    "print(\"***LEARNING END***\")\n",
    "elapsed = time.time() - start\n",
    "print(\"\\nTIME:\",str(timedelta(seconds=elapsed)))\n",
    "\n",
    "# create directory to save model information\n",
    "model_id = ''.join(random.choices(string.ascii_letters + string.digits, k=5))\n",
    "model_dir = spath + '/' + model_id\n",
    "os.mkdir(model_dir)\n",
    "\n",
    "print(\"--->Model saved to:\", model_dir)\n",
    "model.save(model_dir)\n",
    "\n",
    "\"\"\"\n",
    "# serialize model to YAML\n",
    "model_yaml = model.to_yaml()\n",
    "with open(model_dir+\"/model_{}.yaml\".format(model_id), \"w\") as yaml_file:\n",
    "    yaml_file.write(model_yaml)\n",
    "\n",
    "# serialize weights to HDF5\n",
    "model.save_weights(model_dir + \"/wgts_{}.h5\".format(model_id))\n",
    "print(\"Model assets saved to:\", model_dir)\n",
    "\"\"\"\n",
    "\n",
    "# plot loss and accuracy\n",
    "plot_metrics(history=history,spath=model_dir,model_id=model_id)\n",
    "\n",
    "# predict labels from model\n",
    "print(\"\\nPredicting training labels:\")\n",
    "y_train_model = model.predict(x_train,verbose=1)    \n",
    "\n",
    "\n",
    "# plot 1-to-1\n",
    "\n",
    "validation_y_model = model.predict(validation_x,verbose=1)\n",
    "\n",
    "plot_1tot1(y_train=y_train,\n",
    "           y_train_model=y_train_model,\n",
    "           validation_y=validation_y,\n",
    "           validation_y_model=validation_y_model,\n",
    "           spath=model_dir,\n",
    "           model_id=model_id)"
   ]
  },
  {
   "cell_type": "code",
   "execution_count": 4,
   "metadata": {},
   "outputs": [],
   "source": [
    "new_model = keras.models.load_model('models/Zs5qQ/')"
   ]
  },
  {
   "cell_type": "code",
   "execution_count": 5,
   "metadata": {},
   "outputs": [
    {
     "name": "stdout",
     "output_type": "stream",
     "text": [
      "\n",
      "***LEARNING START***\n",
      "Epoch 1/20\n",
      "1/1 - 1s - loss: 0.1833 - accuracy: 0.4708 - val_loss: 0.2220 - val_accuracy: 0.4667\n",
      "Epoch 2/20\n",
      "1/1 - 1s - loss: 0.2338 - accuracy: 0.4833 - val_loss: 0.1865 - val_accuracy: 0.4667\n",
      "Epoch 3/20\n",
      "1/1 - 1s - loss: 0.2031 - accuracy: 0.5167 - val_loss: 0.1441 - val_accuracy: 0.5333\n",
      "Epoch 4/20\n",
      "1/1 - 1s - loss: 0.1595 - accuracy: 0.5125 - val_loss: 0.1453 - val_accuracy: 0.5333\n",
      "Epoch 5/20\n",
      "1/1 - 1s - loss: 0.1560 - accuracy: 0.5083 - val_loss: 0.1472 - val_accuracy: 0.5333\n",
      "Epoch 6/20\n",
      "1/1 - 1s - loss: 0.1582 - accuracy: 0.5167 - val_loss: 0.1486 - val_accuracy: 0.5333\n",
      "Epoch 7/20\n",
      "1/1 - 1s - loss: 0.1631 - accuracy: 0.4958 - val_loss: 0.1419 - val_accuracy: 0.4667\n",
      "Epoch 8/20\n",
      "1/1 - 1s - loss: 0.1541 - accuracy: 0.4750 - val_loss: 0.1346 - val_accuracy: 0.4667\n",
      "Epoch 9/20\n",
      "1/1 - 1s - loss: 0.1433 - accuracy: 0.4875 - val_loss: 0.1396 - val_accuracy: 0.4667\n",
      "Epoch 10/20\n",
      "1/1 - 1s - loss: 0.1446 - accuracy: 0.4708 - val_loss: 0.1434 - val_accuracy: 0.4667\n",
      "Epoch 11/20\n",
      "1/1 - 1s - loss: 0.1500 - accuracy: 0.4917 - val_loss: 0.1397 - val_accuracy: 0.4667\n",
      "Epoch 12/20\n",
      "1/1 - 1s - loss: 0.1469 - accuracy: 0.5417 - val_loss: 0.1365 - val_accuracy: 0.4667\n",
      "Epoch 13/20\n",
      "1/1 - 1s - loss: 0.1479 - accuracy: 0.5292 - val_loss: 0.1329 - val_accuracy: 0.5333\n",
      "Epoch 14/20\n",
      "1/1 - 1s - loss: 0.1441 - accuracy: 0.4917 - val_loss: 0.1314 - val_accuracy: 0.5333\n",
      "Epoch 15/20\n",
      "1/1 - 1s - loss: 0.1413 - accuracy: 0.5000 - val_loss: 0.1335 - val_accuracy: 0.5333\n",
      "Epoch 16/20\n",
      "1/1 - 1s - loss: 0.1412 - accuracy: 0.5250 - val_loss: 0.1379 - val_accuracy: 0.5333\n",
      "Epoch 17/20\n",
      "1/1 - 1s - loss: 0.1403 - accuracy: 0.5250 - val_loss: 0.1380 - val_accuracy: 0.5333\n",
      "Epoch 18/20\n",
      "1/1 - 1s - loss: 0.1426 - accuracy: 0.5167 - val_loss: 0.1376 - val_accuracy: 0.5333\n",
      "Epoch 19/20\n",
      "1/1 - 1s - loss: 0.1423 - accuracy: 0.4958 - val_loss: 0.1361 - val_accuracy: 0.5333\n",
      "Epoch 20/20\n",
      "1/1 - 1s - loss: 0.1412 - accuracy: 0.5000 - val_loss: 0.1342 - val_accuracy: 0.5333\n",
      "***LEARNING END***\n",
      "\n",
      "TIME: 0:00:13.777848\n"
     ]
    }
   ],
   "source": [
    "print(\"\\n***LEARNING START***\")\n",
    "start = time.time()\n",
    "history = new_model.fit(x=x_train[:split_at],\n",
    "                    y=y_train[:split_at], \n",
    "                    epochs=epochs, \n",
    "                    batch_size=batch_size,\n",
    "                    validation_data=(validation_x, validation_y),\n",
    "                    verbose=2)\n",
    "print(\"***LEARNING END***\")\n",
    "elapsed = time.time() - start\n",
    "print(\"\\nTIME:\",str(timedelta(seconds=elapsed)))"
   ]
  },
  {
   "cell_type": "code",
   "execution_count": 6,
   "metadata": {},
   "outputs": [
    {
     "name": "stdout",
     "output_type": "stream",
     "text": [
      "\n",
      "---> metrics plot saved to /Users/erebor/repos/ClusNet/CNNs/center_pix/models/Yf8vl\n",
      "\n",
      "Predicting training labels:\n",
      "10/10 [==============================] - 0s 20ms/step\n",
      "2/2 [==============================] - 0s 21ms/step\n",
      "\n",
      "---> 1to1 plot saved to: /Users/erebor/repos/ClusNet/CNNs/center_pix/models/Yf8vl\n"
     ]
    },
    {
     "data": {
      "image/png": "[encoded data removed]",
      "text/plain": [
       "<Figure size 504x360 with 2 Axes>"
      ]
     },
     "metadata": {
      "needs_background": "light"
     },
     "output_type": "display_data"
    }
   ],
   "source": [
    "# plot loss and accuracy\n",
    "plot_metrics(history=history,spath=model_dir,model_id=model_id)\n",
    "\n",
    "# predict labels from model\n",
    "print(\"\\nPredicting training labels:\")\n",
    "y_train_model = model.predict(x_train,verbose=1)    \n",
    "\n",
    "# plot 1-to-1\n",
    "\n",
    "validation_y_model = model.predict(validation_x,verbose=1)\n",
    "epochs=20\n",
    "plot_1tot1(y_train=y_train,\n",
    "           y_train_model=y_train_model,\n",
    "           validation_y=validation_y,\n",
    "           validation_y_model=validation_y_model,\n",
    "           spath=model_dir,\n",
    "           model_id=model_id)"
   ]
  },
  {
   "cell_type": "code",
   "execution_count": 8,
   "metadata": {},
   "outputs": [
    {
     "data": {
      "text/plain": [
       "[0, 1, 2, 3, 4, 5, 6, 7, 8, 9, 10, 11, 12, 13, 14, 15, 16, 17, 18, 19]"
      ]
     },
     "execution_count": 8,
     "metadata": {},
     "output_type": "execute_result"
    }
   ],
   "source": [
    "history.epoch"
   ]
  },
  {
   "cell_type": "code",
   "execution_count": 2,
   "metadata": {},
   "outputs": [
    {
     "data": {
      "text/plain": [
       "'Zs5qQ'"
      ]
     },
     "execution_count": 2,
     "metadata": {},
     "output_type": "execute_result"
    }
   ],
   "source": [
    "model_dir = 'models/Zs5qQ/'\n",
    "model_id = model_dir[7:-1]\n",
    "model_id"
   ]
  },
  {
   "cell_type": "code",
   "execution_count": null,
   "metadata": {},
   "outputs": [],
   "source": []
  }
 ],
 "metadata": {
  "kernelspec": {
   "display_name": "Python 3",
   "language": "python",
   "name": "python3"
  },
  "language_info": {
   "codemirror_mode": {
    "name": "ipython",
    "version": 3
   },
   "file_extension": ".py",
   "mimetype": "text/x-python",
   "name": "python",
   "nbconvert_exporter": "python",
   "pygments_lexer": "ipython3",
   "version": "3.8.5"
  }
 },
 "nbformat": 4,
 "nbformat_minor": 4
}
